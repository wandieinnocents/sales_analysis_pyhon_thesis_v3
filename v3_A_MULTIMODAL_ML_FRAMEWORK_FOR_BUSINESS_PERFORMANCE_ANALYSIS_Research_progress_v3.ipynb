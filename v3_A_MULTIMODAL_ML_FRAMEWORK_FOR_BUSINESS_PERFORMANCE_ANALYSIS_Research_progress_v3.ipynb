{
  "nbformat": 4,
  "nbformat_minor": 0,
  "metadata": {
    "colab": {
      "provenance": [],
      "authorship_tag": "ABX9TyMGMMRfQVoDggxG6qzRFVow",
      "include_colab_link": true
    },
    "kernelspec": {
      "name": "python3",
      "display_name": "Python 3"
    },
    "language_info": {
      "name": "python"
    }
  },
  "cells": [
    {
      "cell_type": "markdown",
      "metadata": {
        "id": "view-in-github",
        "colab_type": "text"
      },
      "source": [
        "<a href=\"https://colab.research.google.com/github/wandieinnocents/sales_analysis_pyhon_thesis_v3/blob/main/v3_A_MULTIMODAL_ML_FRAMEWORK_FOR_BUSINESS_PERFORMANCE_ANALYSIS_Research_progress_v3.ipynb\" target=\"_parent\"><img src=\"https://colab.research.google.com/assets/colab-badge.svg\" alt=\"Open In Colab\"/></a>"
      ]
    },
    {
      "cell_type": "markdown",
      "source": [
        "#BUSINESS  PERFORMANCE ANALYSIS\n",
        "\n",
        "In this research, I utilize The Supermart Grocery Sales - Retail Analytics Dataset  to evaluate and respond to business queries regarding sales data for a duration of 4 years of operation (2015 - 2018). The dataset contains data on orders placed by customers using a grocery delivery application in the state of Tamil Nadu, India.\n",
        "\n",
        "The dataset is a useful resource also for understanding consumer behavior in the grocery retail industry, and for developing insights into the factors that drive sales in this sector. By analyzing the dataset, businesses can be able to  identify patterns, trends, and correlations that can help retailers optimize their marketing, pricing, and product strategies to increase sales and revenue and also to knkow which region to focus on most."
      ],
      "metadata": {
        "id": "I0yj0XOl8BgU"
      }
    },
    {
      "cell_type": "markdown",
      "source": [
        "##TABLE OF CONTENTS\n",
        "\n",
        "1.   Y:Data loading\n",
        "2.   Y:Cleaning null values\n",
        "3.   Y:What Product Category sold the most for all the 3 years?\n",
        "4.   Y:What Product Sub Category sold the most for all the 3 years?\n",
        "5.   Y:Which city had the highest number of sales\n",
        "6.   Total number of sales to per customer\n",
        "7.   Total number of sales by region\n",
        "8.   Total sales per state\n",
        "9.   Total profits per region\n",
        "10.  Total profits per city\n",
        "11.   Total profits per state\n",
        "11.   Total profits per category\n",
        "11.   Total profits per subcategory\n",
        "12.   Total  number of sales per year\n",
        "13.   Total  number of profits per year\n",
        "\n",
        "\n"
      ],
      "metadata": {
        "id": "bTQy0MVZk0p2"
      }
    },
    {
      "cell_type": "code",
      "source": [
        "# import libraries\n",
        "import pandas as pd\n",
        "import matplotlib.pyplot as plt\n",
        "import os\n"
      ],
      "metadata": {
        "id": "LgZsWVmwHXt-"
      },
      "execution_count": 521,
      "outputs": []
    },
    {
      "cell_type": "code",
      "source": [
        "\n",
        "# mount drive\n",
        "from google.colab import drive\n",
        "drive.mount('/content/drive', force_remount=True)"
      ],
      "metadata": {
        "colab": {
          "base_uri": "https://localhost:8080/"
        },
        "id": "DWe8-gl7HZko",
        "outputId": "b1749e7d-5dd3-4bae-cc75-84053dace654"
      },
      "execution_count": 522,
      "outputs": [
        {
          "output_type": "stream",
          "name": "stdout",
          "text": [
            "Mounted at /content/drive\n"
          ]
        }
      ]
    },
    {
      "cell_type": "code",
      "source": [
        "# read the dataset for supermarket sales\n",
        "df = pd.read_csv(\"/content/drive/MyDrive/research1/supermarket_grocery_sales.csv\")"
      ],
      "metadata": {
        "id": "EKDxPpiYHaD-"
      },
      "execution_count": 523,
      "outputs": []
    },
    {
      "cell_type": "code",
      "source": [
        "# display the dataset\n",
        "df"
      ],
      "metadata": {
        "colab": {
          "base_uri": "https://localhost:8080/",
          "height": 423
        },
        "id": "tYZb-fzNHcxr",
        "outputId": "17935e53-1e65-4cd2-b5e5-48d40d7ec6e5"
      },
      "execution_count": 524,
      "outputs": [
        {
          "output_type": "execute_result",
          "data": {
            "text/plain": [
              "     Order ID Customer Name           Category      Sub Category         City  \\\n",
              "0         OD1        Harish       Oil & Masala           Masalas      Vellore   \n",
              "1         OD2         Sudha          Beverages     Health Drinks  Krishnagiri   \n",
              "2         OD3       Hussain        Food Grains      Atta & Flour   Perambalur   \n",
              "3         OD4       Jackson   Fruits & Veggies  Fresh Vegetables   Dharmapuri   \n",
              "4         OD5       Ridhesh        Food Grains   Organic Staples         Ooty   \n",
              "...       ...           ...                ...               ...          ...   \n",
              "9989   OD9990        Sudeep  Eggs, Meat & Fish              Eggs      Madurai   \n",
              "9990   OD9991          Alan             Bakery          Biscuits  Kanyakumari   \n",
              "9991   OD9992          Ravi        Food Grains              Rice         Bodi   \n",
              "9992   OD9993          Peer       Oil & Masala            Spices   Pudukottai   \n",
              "9993   OD9994        Ganesh        Food Grains      Atta & Flour  Tirunelveli   \n",
              "\n",
              "      Order Date Region  Sales  Discount  Profit       State  \n",
              "0     11-08-2017  North   1254      0.12  401.28  Tamil Nadu  \n",
              "1     11-08-2017  South    749      0.18  149.80  Tamil Nadu  \n",
              "2     06-12-2017   West   2360      0.21  165.20  Tamil Nadu  \n",
              "3     10-11-2016  South    896      0.25   89.60  Tamil Nadu  \n",
              "4     10-11-2016  South   2355      0.26  918.45  Tamil Nadu  \n",
              "...          ...    ...    ...       ...     ...         ...  \n",
              "9989  12/24/2015   West    945      0.16  359.10  Tamil Nadu  \n",
              "9990  07-12-2015   West   1195      0.26   71.70  Tamil Nadu  \n",
              "9991  06-06-2017   West   1567      0.16  501.44  Tamil Nadu  \n",
              "9992  10/16/2018   West   1659      0.15  597.24  Tamil Nadu  \n",
              "9993   4/17/2018   West   1034      0.28  165.44  Tamil Nadu  \n",
              "\n",
              "[9994 rows x 11 columns]"
            ],
            "text/html": [
              "\n",
              "\n",
              "  <div id=\"df-a48a99b2-b36b-4559-a564-9c2ae1a9edd7\">\n",
              "    <div class=\"colab-df-container\">\n",
              "      <div>\n",
              "<style scoped>\n",
              "    .dataframe tbody tr th:only-of-type {\n",
              "        vertical-align: middle;\n",
              "    }\n",
              "\n",
              "    .dataframe tbody tr th {\n",
              "        vertical-align: top;\n",
              "    }\n",
              "\n",
              "    .dataframe thead th {\n",
              "        text-align: right;\n",
              "    }\n",
              "</style>\n",
              "<table border=\"1\" class=\"dataframe\">\n",
              "  <thead>\n",
              "    <tr style=\"text-align: right;\">\n",
              "      <th></th>\n",
              "      <th>Order ID</th>\n",
              "      <th>Customer Name</th>\n",
              "      <th>Category</th>\n",
              "      <th>Sub Category</th>\n",
              "      <th>City</th>\n",
              "      <th>Order Date</th>\n",
              "      <th>Region</th>\n",
              "      <th>Sales</th>\n",
              "      <th>Discount</th>\n",
              "      <th>Profit</th>\n",
              "      <th>State</th>\n",
              "    </tr>\n",
              "  </thead>\n",
              "  <tbody>\n",
              "    <tr>\n",
              "      <th>0</th>\n",
              "      <td>OD1</td>\n",
              "      <td>Harish</td>\n",
              "      <td>Oil &amp; Masala</td>\n",
              "      <td>Masalas</td>\n",
              "      <td>Vellore</td>\n",
              "      <td>11-08-2017</td>\n",
              "      <td>North</td>\n",
              "      <td>1254</td>\n",
              "      <td>0.12</td>\n",
              "      <td>401.28</td>\n",
              "      <td>Tamil Nadu</td>\n",
              "    </tr>\n",
              "    <tr>\n",
              "      <th>1</th>\n",
              "      <td>OD2</td>\n",
              "      <td>Sudha</td>\n",
              "      <td>Beverages</td>\n",
              "      <td>Health Drinks</td>\n",
              "      <td>Krishnagiri</td>\n",
              "      <td>11-08-2017</td>\n",
              "      <td>South</td>\n",
              "      <td>749</td>\n",
              "      <td>0.18</td>\n",
              "      <td>149.80</td>\n",
              "      <td>Tamil Nadu</td>\n",
              "    </tr>\n",
              "    <tr>\n",
              "      <th>2</th>\n",
              "      <td>OD3</td>\n",
              "      <td>Hussain</td>\n",
              "      <td>Food Grains</td>\n",
              "      <td>Atta &amp; Flour</td>\n",
              "      <td>Perambalur</td>\n",
              "      <td>06-12-2017</td>\n",
              "      <td>West</td>\n",
              "      <td>2360</td>\n",
              "      <td>0.21</td>\n",
              "      <td>165.20</td>\n",
              "      <td>Tamil Nadu</td>\n",
              "    </tr>\n",
              "    <tr>\n",
              "      <th>3</th>\n",
              "      <td>OD4</td>\n",
              "      <td>Jackson</td>\n",
              "      <td>Fruits &amp; Veggies</td>\n",
              "      <td>Fresh Vegetables</td>\n",
              "      <td>Dharmapuri</td>\n",
              "      <td>10-11-2016</td>\n",
              "      <td>South</td>\n",
              "      <td>896</td>\n",
              "      <td>0.25</td>\n",
              "      <td>89.60</td>\n",
              "      <td>Tamil Nadu</td>\n",
              "    </tr>\n",
              "    <tr>\n",
              "      <th>4</th>\n",
              "      <td>OD5</td>\n",
              "      <td>Ridhesh</td>\n",
              "      <td>Food Grains</td>\n",
              "      <td>Organic Staples</td>\n",
              "      <td>Ooty</td>\n",
              "      <td>10-11-2016</td>\n",
              "      <td>South</td>\n",
              "      <td>2355</td>\n",
              "      <td>0.26</td>\n",
              "      <td>918.45</td>\n",
              "      <td>Tamil Nadu</td>\n",
              "    </tr>\n",
              "    <tr>\n",
              "      <th>...</th>\n",
              "      <td>...</td>\n",
              "      <td>...</td>\n",
              "      <td>...</td>\n",
              "      <td>...</td>\n",
              "      <td>...</td>\n",
              "      <td>...</td>\n",
              "      <td>...</td>\n",
              "      <td>...</td>\n",
              "      <td>...</td>\n",
              "      <td>...</td>\n",
              "      <td>...</td>\n",
              "    </tr>\n",
              "    <tr>\n",
              "      <th>9989</th>\n",
              "      <td>OD9990</td>\n",
              "      <td>Sudeep</td>\n",
              "      <td>Eggs, Meat &amp; Fish</td>\n",
              "      <td>Eggs</td>\n",
              "      <td>Madurai</td>\n",
              "      <td>12/24/2015</td>\n",
              "      <td>West</td>\n",
              "      <td>945</td>\n",
              "      <td>0.16</td>\n",
              "      <td>359.10</td>\n",
              "      <td>Tamil Nadu</td>\n",
              "    </tr>\n",
              "    <tr>\n",
              "      <th>9990</th>\n",
              "      <td>OD9991</td>\n",
              "      <td>Alan</td>\n",
              "      <td>Bakery</td>\n",
              "      <td>Biscuits</td>\n",
              "      <td>Kanyakumari</td>\n",
              "      <td>07-12-2015</td>\n",
              "      <td>West</td>\n",
              "      <td>1195</td>\n",
              "      <td>0.26</td>\n",
              "      <td>71.70</td>\n",
              "      <td>Tamil Nadu</td>\n",
              "    </tr>\n",
              "    <tr>\n",
              "      <th>9991</th>\n",
              "      <td>OD9992</td>\n",
              "      <td>Ravi</td>\n",
              "      <td>Food Grains</td>\n",
              "      <td>Rice</td>\n",
              "      <td>Bodi</td>\n",
              "      <td>06-06-2017</td>\n",
              "      <td>West</td>\n",
              "      <td>1567</td>\n",
              "      <td>0.16</td>\n",
              "      <td>501.44</td>\n",
              "      <td>Tamil Nadu</td>\n",
              "    </tr>\n",
              "    <tr>\n",
              "      <th>9992</th>\n",
              "      <td>OD9993</td>\n",
              "      <td>Peer</td>\n",
              "      <td>Oil &amp; Masala</td>\n",
              "      <td>Spices</td>\n",
              "      <td>Pudukottai</td>\n",
              "      <td>10/16/2018</td>\n",
              "      <td>West</td>\n",
              "      <td>1659</td>\n",
              "      <td>0.15</td>\n",
              "      <td>597.24</td>\n",
              "      <td>Tamil Nadu</td>\n",
              "    </tr>\n",
              "    <tr>\n",
              "      <th>9993</th>\n",
              "      <td>OD9994</td>\n",
              "      <td>Ganesh</td>\n",
              "      <td>Food Grains</td>\n",
              "      <td>Atta &amp; Flour</td>\n",
              "      <td>Tirunelveli</td>\n",
              "      <td>4/17/2018</td>\n",
              "      <td>West</td>\n",
              "      <td>1034</td>\n",
              "      <td>0.28</td>\n",
              "      <td>165.44</td>\n",
              "      <td>Tamil Nadu</td>\n",
              "    </tr>\n",
              "  </tbody>\n",
              "</table>\n",
              "<p>9994 rows × 11 columns</p>\n",
              "</div>\n",
              "      <button class=\"colab-df-convert\" onclick=\"convertToInteractive('df-a48a99b2-b36b-4559-a564-9c2ae1a9edd7')\"\n",
              "              title=\"Convert this dataframe to an interactive table.\"\n",
              "              style=\"display:none;\">\n",
              "\n",
              "  <svg xmlns=\"http://www.w3.org/2000/svg\" height=\"24px\"viewBox=\"0 0 24 24\"\n",
              "       width=\"24px\">\n",
              "    <path d=\"M0 0h24v24H0V0z\" fill=\"none\"/>\n",
              "    <path d=\"M18.56 5.44l.94 2.06.94-2.06 2.06-.94-2.06-.94-.94-2.06-.94 2.06-2.06.94zm-11 1L8.5 8.5l.94-2.06 2.06-.94-2.06-.94L8.5 2.5l-.94 2.06-2.06.94zm10 10l.94 2.06.94-2.06 2.06-.94-2.06-.94-.94-2.06-.94 2.06-2.06.94z\"/><path d=\"M17.41 7.96l-1.37-1.37c-.4-.4-.92-.59-1.43-.59-.52 0-1.04.2-1.43.59L10.3 9.45l-7.72 7.72c-.78.78-.78 2.05 0 2.83L4 21.41c.39.39.9.59 1.41.59.51 0 1.02-.2 1.41-.59l7.78-7.78 2.81-2.81c.8-.78.8-2.07 0-2.86zM5.41 20L4 18.59l7.72-7.72 1.47 1.35L5.41 20z\"/>\n",
              "  </svg>\n",
              "      </button>\n",
              "\n",
              "\n",
              "\n",
              "    <div id=\"df-f290d4e7-ad9a-446a-a47b-81f6432e70de\">\n",
              "      <button class=\"colab-df-quickchart\" onclick=\"quickchart('df-f290d4e7-ad9a-446a-a47b-81f6432e70de')\"\n",
              "              title=\"Suggest charts.\"\n",
              "              style=\"display:none;\">\n",
              "\n",
              "<svg xmlns=\"http://www.w3.org/2000/svg\" height=\"24px\"viewBox=\"0 0 24 24\"\n",
              "     width=\"24px\">\n",
              "    <g>\n",
              "        <path d=\"M19 3H5c-1.1 0-2 .9-2 2v14c0 1.1.9 2 2 2h14c1.1 0 2-.9 2-2V5c0-1.1-.9-2-2-2zM9 17H7v-7h2v7zm4 0h-2V7h2v10zm4 0h-2v-4h2v4z\"/>\n",
              "    </g>\n",
              "</svg>\n",
              "      </button>\n",
              "    </div>\n",
              "\n",
              "<style>\n",
              "  .colab-df-quickchart {\n",
              "    background-color: #E8F0FE;\n",
              "    border: none;\n",
              "    border-radius: 50%;\n",
              "    cursor: pointer;\n",
              "    display: none;\n",
              "    fill: #1967D2;\n",
              "    height: 32px;\n",
              "    padding: 0 0 0 0;\n",
              "    width: 32px;\n",
              "  }\n",
              "\n",
              "  .colab-df-quickchart:hover {\n",
              "    background-color: #E2EBFA;\n",
              "    box-shadow: 0px 1px 2px rgba(60, 64, 67, 0.3), 0px 1px 3px 1px rgba(60, 64, 67, 0.15);\n",
              "    fill: #174EA6;\n",
              "  }\n",
              "\n",
              "  [theme=dark] .colab-df-quickchart {\n",
              "    background-color: #3B4455;\n",
              "    fill: #D2E3FC;\n",
              "  }\n",
              "\n",
              "  [theme=dark] .colab-df-quickchart:hover {\n",
              "    background-color: #434B5C;\n",
              "    box-shadow: 0px 1px 3px 1px rgba(0, 0, 0, 0.15);\n",
              "    filter: drop-shadow(0px 1px 2px rgba(0, 0, 0, 0.3));\n",
              "    fill: #FFFFFF;\n",
              "  }\n",
              "</style>\n",
              "\n",
              "    <script>\n",
              "      async function quickchart(key) {\n",
              "        const containerElement = document.querySelector('#' + key);\n",
              "        const charts = await google.colab.kernel.invokeFunction(\n",
              "            'suggestCharts', [key], {});\n",
              "      }\n",
              "    </script>\n",
              "\n",
              "      <script>\n",
              "\n",
              "function displayQuickchartButton(domScope) {\n",
              "  let quickchartButtonEl =\n",
              "    domScope.querySelector('#df-f290d4e7-ad9a-446a-a47b-81f6432e70de button.colab-df-quickchart');\n",
              "  quickchartButtonEl.style.display =\n",
              "    google.colab.kernel.accessAllowed ? 'block' : 'none';\n",
              "}\n",
              "\n",
              "        displayQuickchartButton(document);\n",
              "      </script>\n",
              "      <style>\n",
              "    .colab-df-container {\n",
              "      display:flex;\n",
              "      flex-wrap:wrap;\n",
              "      gap: 12px;\n",
              "    }\n",
              "\n",
              "    .colab-df-convert {\n",
              "      background-color: #E8F0FE;\n",
              "      border: none;\n",
              "      border-radius: 50%;\n",
              "      cursor: pointer;\n",
              "      display: none;\n",
              "      fill: #1967D2;\n",
              "      height: 32px;\n",
              "      padding: 0 0 0 0;\n",
              "      width: 32px;\n",
              "    }\n",
              "\n",
              "    .colab-df-convert:hover {\n",
              "      background-color: #E2EBFA;\n",
              "      box-shadow: 0px 1px 2px rgba(60, 64, 67, 0.3), 0px 1px 3px 1px rgba(60, 64, 67, 0.15);\n",
              "      fill: #174EA6;\n",
              "    }\n",
              "\n",
              "    [theme=dark] .colab-df-convert {\n",
              "      background-color: #3B4455;\n",
              "      fill: #D2E3FC;\n",
              "    }\n",
              "\n",
              "    [theme=dark] .colab-df-convert:hover {\n",
              "      background-color: #434B5C;\n",
              "      box-shadow: 0px 1px 3px 1px rgba(0, 0, 0, 0.15);\n",
              "      filter: drop-shadow(0px 1px 2px rgba(0, 0, 0, 0.3));\n",
              "      fill: #FFFFFF;\n",
              "    }\n",
              "  </style>\n",
              "\n",
              "      <script>\n",
              "        const buttonEl =\n",
              "          document.querySelector('#df-a48a99b2-b36b-4559-a564-9c2ae1a9edd7 button.colab-df-convert');\n",
              "        buttonEl.style.display =\n",
              "          google.colab.kernel.accessAllowed ? 'block' : 'none';\n",
              "\n",
              "        async function convertToInteractive(key) {\n",
              "          const element = document.querySelector('#df-a48a99b2-b36b-4559-a564-9c2ae1a9edd7');\n",
              "          const dataTable =\n",
              "            await google.colab.kernel.invokeFunction('convertToInteractive',\n",
              "                                                     [key], {});\n",
              "          if (!dataTable) return;\n",
              "\n",
              "          const docLinkHtml = 'Like what you see? Visit the ' +\n",
              "            '<a target=\"_blank\" href=https://colab.research.google.com/notebooks/data_table.ipynb>data table notebook</a>'\n",
              "            + ' to learn more about interactive tables.';\n",
              "          element.innerHTML = '';\n",
              "          dataTable['output_type'] = 'display_data';\n",
              "          await google.colab.output.renderOutput(dataTable, element);\n",
              "          const docLink = document.createElement('div');\n",
              "          docLink.innerHTML = docLinkHtml;\n",
              "          element.appendChild(docLink);\n",
              "        }\n",
              "      </script>\n",
              "    </div>\n",
              "  </div>\n"
            ]
          },
          "metadata": {},
          "execution_count": 524
        }
      ]
    },
    {
      "cell_type": "markdown",
      "source": [
        "CHECKING AND CLEANING OF NULL VALUES"
      ],
      "metadata": {
        "id": "mk9WEPenTVsB"
      }
    },
    {
      "cell_type": "code",
      "source": [
        "# Checking for null values using isnull()\n",
        "print(df.isnull())"
      ],
      "metadata": {
        "colab": {
          "base_uri": "https://localhost:8080/"
        },
        "id": "1ZKPlO1VTZgI",
        "outputId": "52a59181-8f5c-4313-f9cf-297b2ff1e9b9"
      },
      "execution_count": 525,
      "outputs": [
        {
          "output_type": "stream",
          "name": "stdout",
          "text": [
            "      Order ID  Customer Name  Category  Sub Category   City  Order Date  \\\n",
            "0        False          False     False         False  False       False   \n",
            "1        False          False     False         False  False       False   \n",
            "2        False          False     False         False  False       False   \n",
            "3        False          False     False         False  False       False   \n",
            "4        False          False     False         False  False       False   \n",
            "...        ...            ...       ...           ...    ...         ...   \n",
            "9989     False          False     False         False  False       False   \n",
            "9990     False          False     False         False  False       False   \n",
            "9991     False          False     False         False  False       False   \n",
            "9992     False          False     False         False  False       False   \n",
            "9993     False          False     False         False  False       False   \n",
            "\n",
            "      Region  Sales  Discount  Profit  State  \n",
            "0      False  False     False   False  False  \n",
            "1      False  False     False   False  False  \n",
            "2      False  False     False   False  False  \n",
            "3      False  False     False   False  False  \n",
            "4      False  False     False   False  False  \n",
            "...      ...    ...       ...     ...    ...  \n",
            "9989   False  False     False   False  False  \n",
            "9990   False  False     False   False  False  \n",
            "9991   False  False     False   False  False  \n",
            "9992   False  False     False   False  False  \n",
            "9993   False  False     False   False  False  \n",
            "\n",
            "[9994 rows x 11 columns]\n"
          ]
        }
      ]
    },
    {
      "cell_type": "code",
      "source": [
        "# count the number of null values if exists\n",
        "print(df.isnull().sum())"
      ],
      "metadata": {
        "colab": {
          "base_uri": "https://localhost:8080/"
        },
        "id": "bk84_Kzxnc-n",
        "outputId": "0d28c0d1-7f7d-47fd-e656-32d706a59f03"
      },
      "execution_count": 526,
      "outputs": [
        {
          "output_type": "stream",
          "name": "stdout",
          "text": [
            "Order ID         0\n",
            "Customer Name    0\n",
            "Category         0\n",
            "Sub Category     0\n",
            "City             0\n",
            "Order Date       0\n",
            "Region           0\n",
            "Sales            0\n",
            "Discount         0\n",
            "Profit           0\n",
            "State            0\n",
            "dtype: int64\n"
          ]
        }
      ]
    },
    {
      "cell_type": "code",
      "source": [
        "# remove all the null values from dataset if exists\n",
        "df=df.dropna(how='all')"
      ],
      "metadata": {
        "id": "sB3k8zfGnmyT"
      },
      "execution_count": 527,
      "outputs": []
    },
    {
      "cell_type": "markdown",
      "source": [
        "CLEANED DATASET"
      ],
      "metadata": {
        "id": "emajiLQln34j"
      }
    },
    {
      "cell_type": "code",
      "source": [
        "# cleaned dataset\n",
        "df.head(10)"
      ],
      "metadata": {
        "colab": {
          "base_uri": "https://localhost:8080/",
          "height": 362
        },
        "id": "IjM--KV9nzey",
        "outputId": "5528f5fd-10ca-4eda-eb9a-611e224a2a93"
      },
      "execution_count": 528,
      "outputs": [
        {
          "output_type": "execute_result",
          "data": {
            "text/plain": [
              "  Order ID Customer Name          Category      Sub Category            City  \\\n",
              "0      OD1        Harish      Oil & Masala           Masalas         Vellore   \n",
              "1      OD2         Sudha         Beverages     Health Drinks     Krishnagiri   \n",
              "2      OD3       Hussain       Food Grains      Atta & Flour      Perambalur   \n",
              "3      OD4       Jackson  Fruits & Veggies  Fresh Vegetables      Dharmapuri   \n",
              "4      OD5       Ridhesh       Food Grains   Organic Staples            Ooty   \n",
              "5      OD6        Adavan       Food Grains   Organic Staples      Dharmapuri   \n",
              "6      OD7         Jonas  Fruits & Veggies  Fresh Vegetables          Trichy   \n",
              "7      OD8         Hafiz  Fruits & Veggies      Fresh Fruits  Ramanadhapuram   \n",
              "8      OD9         Hafiz            Bakery          Biscuits     Tirunelveli   \n",
              "9     OD10      Krithika            Bakery             Cakes         Chennai   \n",
              "\n",
              "   Order Date Region  Sales  Discount  Profit       State  \n",
              "0  11-08-2017  North   1254      0.12  401.28  Tamil Nadu  \n",
              "1  11-08-2017  South    749      0.18  149.80  Tamil Nadu  \n",
              "2  06-12-2017   West   2360      0.21  165.20  Tamil Nadu  \n",
              "3  10-11-2016  South    896      0.25   89.60  Tamil Nadu  \n",
              "4  10-11-2016  South   2355      0.26  918.45  Tamil Nadu  \n",
              "5  06-09-2015   West   2305      0.26  322.70  Tamil Nadu  \n",
              "6  06-09-2015   West    826      0.33  346.92  Tamil Nadu  \n",
              "7  06-09-2015   West   1847      0.32  147.76  Tamil Nadu  \n",
              "8  06-09-2015   West    791      0.23  181.93  Tamil Nadu  \n",
              "9  06-09-2015   West   1795      0.27  484.65  Tamil Nadu  "
            ],
            "text/html": [
              "\n",
              "\n",
              "  <div id=\"df-d4cd1bd5-05e0-4695-92fb-cc398e0ec86a\">\n",
              "    <div class=\"colab-df-container\">\n",
              "      <div>\n",
              "<style scoped>\n",
              "    .dataframe tbody tr th:only-of-type {\n",
              "        vertical-align: middle;\n",
              "    }\n",
              "\n",
              "    .dataframe tbody tr th {\n",
              "        vertical-align: top;\n",
              "    }\n",
              "\n",
              "    .dataframe thead th {\n",
              "        text-align: right;\n",
              "    }\n",
              "</style>\n",
              "<table border=\"1\" class=\"dataframe\">\n",
              "  <thead>\n",
              "    <tr style=\"text-align: right;\">\n",
              "      <th></th>\n",
              "      <th>Order ID</th>\n",
              "      <th>Customer Name</th>\n",
              "      <th>Category</th>\n",
              "      <th>Sub Category</th>\n",
              "      <th>City</th>\n",
              "      <th>Order Date</th>\n",
              "      <th>Region</th>\n",
              "      <th>Sales</th>\n",
              "      <th>Discount</th>\n",
              "      <th>Profit</th>\n",
              "      <th>State</th>\n",
              "    </tr>\n",
              "  </thead>\n",
              "  <tbody>\n",
              "    <tr>\n",
              "      <th>0</th>\n",
              "      <td>OD1</td>\n",
              "      <td>Harish</td>\n",
              "      <td>Oil &amp; Masala</td>\n",
              "      <td>Masalas</td>\n",
              "      <td>Vellore</td>\n",
              "      <td>11-08-2017</td>\n",
              "      <td>North</td>\n",
              "      <td>1254</td>\n",
              "      <td>0.12</td>\n",
              "      <td>401.28</td>\n",
              "      <td>Tamil Nadu</td>\n",
              "    </tr>\n",
              "    <tr>\n",
              "      <th>1</th>\n",
              "      <td>OD2</td>\n",
              "      <td>Sudha</td>\n",
              "      <td>Beverages</td>\n",
              "      <td>Health Drinks</td>\n",
              "      <td>Krishnagiri</td>\n",
              "      <td>11-08-2017</td>\n",
              "      <td>South</td>\n",
              "      <td>749</td>\n",
              "      <td>0.18</td>\n",
              "      <td>149.80</td>\n",
              "      <td>Tamil Nadu</td>\n",
              "    </tr>\n",
              "    <tr>\n",
              "      <th>2</th>\n",
              "      <td>OD3</td>\n",
              "      <td>Hussain</td>\n",
              "      <td>Food Grains</td>\n",
              "      <td>Atta &amp; Flour</td>\n",
              "      <td>Perambalur</td>\n",
              "      <td>06-12-2017</td>\n",
              "      <td>West</td>\n",
              "      <td>2360</td>\n",
              "      <td>0.21</td>\n",
              "      <td>165.20</td>\n",
              "      <td>Tamil Nadu</td>\n",
              "    </tr>\n",
              "    <tr>\n",
              "      <th>3</th>\n",
              "      <td>OD4</td>\n",
              "      <td>Jackson</td>\n",
              "      <td>Fruits &amp; Veggies</td>\n",
              "      <td>Fresh Vegetables</td>\n",
              "      <td>Dharmapuri</td>\n",
              "      <td>10-11-2016</td>\n",
              "      <td>South</td>\n",
              "      <td>896</td>\n",
              "      <td>0.25</td>\n",
              "      <td>89.60</td>\n",
              "      <td>Tamil Nadu</td>\n",
              "    </tr>\n",
              "    <tr>\n",
              "      <th>4</th>\n",
              "      <td>OD5</td>\n",
              "      <td>Ridhesh</td>\n",
              "      <td>Food Grains</td>\n",
              "      <td>Organic Staples</td>\n",
              "      <td>Ooty</td>\n",
              "      <td>10-11-2016</td>\n",
              "      <td>South</td>\n",
              "      <td>2355</td>\n",
              "      <td>0.26</td>\n",
              "      <td>918.45</td>\n",
              "      <td>Tamil Nadu</td>\n",
              "    </tr>\n",
              "    <tr>\n",
              "      <th>5</th>\n",
              "      <td>OD6</td>\n",
              "      <td>Adavan</td>\n",
              "      <td>Food Grains</td>\n",
              "      <td>Organic Staples</td>\n",
              "      <td>Dharmapuri</td>\n",
              "      <td>06-09-2015</td>\n",
              "      <td>West</td>\n",
              "      <td>2305</td>\n",
              "      <td>0.26</td>\n",
              "      <td>322.70</td>\n",
              "      <td>Tamil Nadu</td>\n",
              "    </tr>\n",
              "    <tr>\n",
              "      <th>6</th>\n",
              "      <td>OD7</td>\n",
              "      <td>Jonas</td>\n",
              "      <td>Fruits &amp; Veggies</td>\n",
              "      <td>Fresh Vegetables</td>\n",
              "      <td>Trichy</td>\n",
              "      <td>06-09-2015</td>\n",
              "      <td>West</td>\n",
              "      <td>826</td>\n",
              "      <td>0.33</td>\n",
              "      <td>346.92</td>\n",
              "      <td>Tamil Nadu</td>\n",
              "    </tr>\n",
              "    <tr>\n",
              "      <th>7</th>\n",
              "      <td>OD8</td>\n",
              "      <td>Hafiz</td>\n",
              "      <td>Fruits &amp; Veggies</td>\n",
              "      <td>Fresh Fruits</td>\n",
              "      <td>Ramanadhapuram</td>\n",
              "      <td>06-09-2015</td>\n",
              "      <td>West</td>\n",
              "      <td>1847</td>\n",
              "      <td>0.32</td>\n",
              "      <td>147.76</td>\n",
              "      <td>Tamil Nadu</td>\n",
              "    </tr>\n",
              "    <tr>\n",
              "      <th>8</th>\n",
              "      <td>OD9</td>\n",
              "      <td>Hafiz</td>\n",
              "      <td>Bakery</td>\n",
              "      <td>Biscuits</td>\n",
              "      <td>Tirunelveli</td>\n",
              "      <td>06-09-2015</td>\n",
              "      <td>West</td>\n",
              "      <td>791</td>\n",
              "      <td>0.23</td>\n",
              "      <td>181.93</td>\n",
              "      <td>Tamil Nadu</td>\n",
              "    </tr>\n",
              "    <tr>\n",
              "      <th>9</th>\n",
              "      <td>OD10</td>\n",
              "      <td>Krithika</td>\n",
              "      <td>Bakery</td>\n",
              "      <td>Cakes</td>\n",
              "      <td>Chennai</td>\n",
              "      <td>06-09-2015</td>\n",
              "      <td>West</td>\n",
              "      <td>1795</td>\n",
              "      <td>0.27</td>\n",
              "      <td>484.65</td>\n",
              "      <td>Tamil Nadu</td>\n",
              "    </tr>\n",
              "  </tbody>\n",
              "</table>\n",
              "</div>\n",
              "      <button class=\"colab-df-convert\" onclick=\"convertToInteractive('df-d4cd1bd5-05e0-4695-92fb-cc398e0ec86a')\"\n",
              "              title=\"Convert this dataframe to an interactive table.\"\n",
              "              style=\"display:none;\">\n",
              "\n",
              "  <svg xmlns=\"http://www.w3.org/2000/svg\" height=\"24px\"viewBox=\"0 0 24 24\"\n",
              "       width=\"24px\">\n",
              "    <path d=\"M0 0h24v24H0V0z\" fill=\"none\"/>\n",
              "    <path d=\"M18.56 5.44l.94 2.06.94-2.06 2.06-.94-2.06-.94-.94-2.06-.94 2.06-2.06.94zm-11 1L8.5 8.5l.94-2.06 2.06-.94-2.06-.94L8.5 2.5l-.94 2.06-2.06.94zm10 10l.94 2.06.94-2.06 2.06-.94-2.06-.94-.94-2.06-.94 2.06-2.06.94z\"/><path d=\"M17.41 7.96l-1.37-1.37c-.4-.4-.92-.59-1.43-.59-.52 0-1.04.2-1.43.59L10.3 9.45l-7.72 7.72c-.78.78-.78 2.05 0 2.83L4 21.41c.39.39.9.59 1.41.59.51 0 1.02-.2 1.41-.59l7.78-7.78 2.81-2.81c.8-.78.8-2.07 0-2.86zM5.41 20L4 18.59l7.72-7.72 1.47 1.35L5.41 20z\"/>\n",
              "  </svg>\n",
              "      </button>\n",
              "\n",
              "\n",
              "\n",
              "    <div id=\"df-565b044b-5506-4981-8e1a-818a26b1e035\">\n",
              "      <button class=\"colab-df-quickchart\" onclick=\"quickchart('df-565b044b-5506-4981-8e1a-818a26b1e035')\"\n",
              "              title=\"Suggest charts.\"\n",
              "              style=\"display:none;\">\n",
              "\n",
              "<svg xmlns=\"http://www.w3.org/2000/svg\" height=\"24px\"viewBox=\"0 0 24 24\"\n",
              "     width=\"24px\">\n",
              "    <g>\n",
              "        <path d=\"M19 3H5c-1.1 0-2 .9-2 2v14c0 1.1.9 2 2 2h14c1.1 0 2-.9 2-2V5c0-1.1-.9-2-2-2zM9 17H7v-7h2v7zm4 0h-2V7h2v10zm4 0h-2v-4h2v4z\"/>\n",
              "    </g>\n",
              "</svg>\n",
              "      </button>\n",
              "    </div>\n",
              "\n",
              "<style>\n",
              "  .colab-df-quickchart {\n",
              "    background-color: #E8F0FE;\n",
              "    border: none;\n",
              "    border-radius: 50%;\n",
              "    cursor: pointer;\n",
              "    display: none;\n",
              "    fill: #1967D2;\n",
              "    height: 32px;\n",
              "    padding: 0 0 0 0;\n",
              "    width: 32px;\n",
              "  }\n",
              "\n",
              "  .colab-df-quickchart:hover {\n",
              "    background-color: #E2EBFA;\n",
              "    box-shadow: 0px 1px 2px rgba(60, 64, 67, 0.3), 0px 1px 3px 1px rgba(60, 64, 67, 0.15);\n",
              "    fill: #174EA6;\n",
              "  }\n",
              "\n",
              "  [theme=dark] .colab-df-quickchart {\n",
              "    background-color: #3B4455;\n",
              "    fill: #D2E3FC;\n",
              "  }\n",
              "\n",
              "  [theme=dark] .colab-df-quickchart:hover {\n",
              "    background-color: #434B5C;\n",
              "    box-shadow: 0px 1px 3px 1px rgba(0, 0, 0, 0.15);\n",
              "    filter: drop-shadow(0px 1px 2px rgba(0, 0, 0, 0.3));\n",
              "    fill: #FFFFFF;\n",
              "  }\n",
              "</style>\n",
              "\n",
              "    <script>\n",
              "      async function quickchart(key) {\n",
              "        const containerElement = document.querySelector('#' + key);\n",
              "        const charts = await google.colab.kernel.invokeFunction(\n",
              "            'suggestCharts', [key], {});\n",
              "      }\n",
              "    </script>\n",
              "\n",
              "      <script>\n",
              "\n",
              "function displayQuickchartButton(domScope) {\n",
              "  let quickchartButtonEl =\n",
              "    domScope.querySelector('#df-565b044b-5506-4981-8e1a-818a26b1e035 button.colab-df-quickchart');\n",
              "  quickchartButtonEl.style.display =\n",
              "    google.colab.kernel.accessAllowed ? 'block' : 'none';\n",
              "}\n",
              "\n",
              "        displayQuickchartButton(document);\n",
              "      </script>\n",
              "      <style>\n",
              "    .colab-df-container {\n",
              "      display:flex;\n",
              "      flex-wrap:wrap;\n",
              "      gap: 12px;\n",
              "    }\n",
              "\n",
              "    .colab-df-convert {\n",
              "      background-color: #E8F0FE;\n",
              "      border: none;\n",
              "      border-radius: 50%;\n",
              "      cursor: pointer;\n",
              "      display: none;\n",
              "      fill: #1967D2;\n",
              "      height: 32px;\n",
              "      padding: 0 0 0 0;\n",
              "      width: 32px;\n",
              "    }\n",
              "\n",
              "    .colab-df-convert:hover {\n",
              "      background-color: #E2EBFA;\n",
              "      box-shadow: 0px 1px 2px rgba(60, 64, 67, 0.3), 0px 1px 3px 1px rgba(60, 64, 67, 0.15);\n",
              "      fill: #174EA6;\n",
              "    }\n",
              "\n",
              "    [theme=dark] .colab-df-convert {\n",
              "      background-color: #3B4455;\n",
              "      fill: #D2E3FC;\n",
              "    }\n",
              "\n",
              "    [theme=dark] .colab-df-convert:hover {\n",
              "      background-color: #434B5C;\n",
              "      box-shadow: 0px 1px 3px 1px rgba(0, 0, 0, 0.15);\n",
              "      filter: drop-shadow(0px 1px 2px rgba(0, 0, 0, 0.3));\n",
              "      fill: #FFFFFF;\n",
              "    }\n",
              "  </style>\n",
              "\n",
              "      <script>\n",
              "        const buttonEl =\n",
              "          document.querySelector('#df-d4cd1bd5-05e0-4695-92fb-cc398e0ec86a button.colab-df-convert');\n",
              "        buttonEl.style.display =\n",
              "          google.colab.kernel.accessAllowed ? 'block' : 'none';\n",
              "\n",
              "        async function convertToInteractive(key) {\n",
              "          const element = document.querySelector('#df-d4cd1bd5-05e0-4695-92fb-cc398e0ec86a');\n",
              "          const dataTable =\n",
              "            await google.colab.kernel.invokeFunction('convertToInteractive',\n",
              "                                                     [key], {});\n",
              "          if (!dataTable) return;\n",
              "\n",
              "          const docLinkHtml = 'Like what you see? Visit the ' +\n",
              "            '<a target=\"_blank\" href=https://colab.research.google.com/notebooks/data_table.ipynb>data table notebook</a>'\n",
              "            + ' to learn more about interactive tables.';\n",
              "          element.innerHTML = '';\n",
              "          dataTable['output_type'] = 'display_data';\n",
              "          await google.colab.output.renderOutput(dataTable, element);\n",
              "          const docLink = document.createElement('div');\n",
              "          docLink.innerHTML = docLinkHtml;\n",
              "          element.appendChild(docLink);\n",
              "        }\n",
              "      </script>\n",
              "    </div>\n",
              "  </div>\n"
            ]
          },
          "metadata": {},
          "execution_count": 528
        }
      ]
    },
    {
      "cell_type": "markdown",
      "source": [
        "##BUSINESS PERFORMANCE  ANALYSIS FOR ALL THE 3 YEARS (COMBINED)"
      ],
      "metadata": {
        "id": "ezTfP7Hl4m1F"
      }
    },
    {
      "cell_type": "markdown",
      "source": [
        "#What Product Category sold the most for all the 3 years?\n"
      ],
      "metadata": {
        "id": "F5DTOEAptNY9"
      }
    },
    {
      "cell_type": "code",
      "source": [
        "product_category = df.groupby('Category')\n",
        "\n",
        "# product - category, quantiy orderd : sales\n",
        "#Visualizing\n",
        "product_category_sales = product_category.sum()['Sales']\n",
        "product_category_sales"
      ],
      "metadata": {
        "colab": {
          "base_uri": "https://localhost:8080/"
        },
        "id": "scxaG7iXw0Vi",
        "outputId": "7b5625e2-0fca-4911-fffc-09144131a46b"
      },
      "execution_count": 529,
      "outputs": [
        {
          "output_type": "stream",
          "name": "stderr",
          "text": [
            "<ipython-input-529-1dea33b07a57>:5: FutureWarning: The default value of numeric_only in DataFrameGroupBy.sum is deprecated. In a future version, numeric_only will default to False. Either specify numeric_only or select only columns which should be valid for the function.\n",
            "  product_category_sales = product_category.sum()['Sales']\n"
          ]
        },
        {
          "output_type": "execute_result",
          "data": {
            "text/plain": [
              "Category\n",
              "Bakery               2112281\n",
              "Beverages            2085313\n",
              "Eggs, Meat & Fish    2267401\n",
              "Food Grains          2115272\n",
              "Fruits & Veggies     2100727\n",
              "Oil & Masala         2038442\n",
              "Snacks               2237546\n",
              "Name: Sales, dtype: int64"
            ]
          },
          "metadata": {},
          "execution_count": 529
        }
      ]
    },
    {
      "cell_type": "code",
      "source": [
        "# vizualizing the dataset for product sales\n",
        "products = [product for product, df in product_category]\n",
        "\n",
        "plt.figure(figsize=(16,5))\n",
        "plt.bar(products, product_category_sales)\n",
        "plt.ylabel('Number of sales')\n",
        "plt.xlabel('Product Category')\n",
        "plt.xticks(products, rotation='vertical', size=8)\n",
        "plt.show()"
      ],
      "metadata": {
        "colab": {
          "base_uri": "https://localhost:8080/",
          "height": 565
        },
        "id": "dKW-lwbFsMq9",
        "outputId": "711174e8-8a6b-4ad4-dd0b-25342dbae977"
      },
      "execution_count": 584,
      "outputs": [
        {
          "output_type": "display_data",
          "data": {
            "text/plain": [
              "<Figure size 1600x500 with 1 Axes>"
            ],
            "image/png": "[encoded data removed]"
          },
          "metadata": {}
        }
      ]
    },
    {
      "cell_type": "markdown",
      "source": [
        "#What Product Sub category Category sold the most for all the 3 years?\n"
      ],
      "metadata": {
        "id": "AA10zVUrt-5k"
      }
    },
    {
      "cell_type": "code",
      "source": [
        "# product sub category which sold most for all 3 years\n",
        "product_sub_category = df.groupby('Sub Category')\n",
        "product_sub_category_sales = product_sub_category.sum()['Sales']\n",
        "product_sub_category_sales"
      ],
      "metadata": {
        "colab": {
          "base_uri": "https://localhost:8080/"
        },
        "id": "0D0yAVlPwXug",
        "outputId": "bfaecefe-7cbd-4453-afb1-f6fdde63b94f"
      },
      "execution_count": 531,
      "outputs": [
        {
          "output_type": "stream",
          "name": "stderr",
          "text": [
            "<ipython-input-531-996f854eb551>:3: FutureWarning: The default value of numeric_only in DataFrameGroupBy.sum is deprecated. In a future version, numeric_only will default to False. Either specify numeric_only or select only columns which should be valid for the function.\n",
            "  product_sub_category_sales = product_sub_category.sum()['Sales']\n"
          ]
        },
        {
          "output_type": "execute_result",
          "data": {
            "text/plain": [
              "Sub Category\n",
              "Atta & Flour           534649\n",
              "Biscuits               684083\n",
              "Breads & Buns          742586\n",
              "Cakes                  685612\n",
              "Chicken                520497\n",
              "Chocolates             733898\n",
              "Cookies                768213\n",
              "Dals & Pulses          523371\n",
              "Edible Oil & Ghee      668086\n",
              "Eggs                   575156\n",
              "Fish                   560548\n",
              "Fresh Fruits           551212\n",
              "Fresh Vegetables       525842\n",
              "Health Drinks         1051439\n",
              "Masalas                697480\n",
              "Mutton                 611200\n",
              "Noodles                735435\n",
              "Organic Fruits         503402\n",
              "Organic Staples        558929\n",
              "Organic Vegetables     520271\n",
              "Rice                   498323\n",
              "Soft Drinks           1033874\n",
              "Spices                 672876\n",
              "Name: Sales, dtype: int64"
            ]
          },
          "metadata": {},
          "execution_count": 531
        }
      ]
    },
    {
      "cell_type": "code",
      "source": [
        "# vizualizing the product sub category sales\n",
        "\n",
        "products_subcat = [product for product, df in product_sub_category]\n",
        "\n",
        "# bar plot\n",
        "plt.figure(figsize=(16,5))\n",
        "plt.bar(products_subcat, product_sub_category_sales)\n",
        "plt.ylabel('Number of sales')\n",
        "plt.xlabel('Product SubCategory')\n",
        "plt.xticks(products_subcat, rotation='vertical', size=8)\n",
        "plt.show()"
      ],
      "metadata": {
        "colab": {
          "base_uri": "https://localhost:8080/",
          "height": 575
        },
        "id": "7tHxC5JluDdX",
        "outputId": "c61d9592-9277-46c5-bbd5-99ffd787ffa5"
      },
      "execution_count": 583,
      "outputs": [
        {
          "output_type": "display_data",
          "data": {
            "text/plain": [
              "<Figure size 1600x500 with 1 Axes>"
            ],
            "image/png": "[encoded data removed]"
          },
          "metadata": {}
        }
      ]
    },
    {
      "cell_type": "markdown",
      "source": [
        "#WHICH CITY HAD THE HIGHEST NUMBER OF SALES\n"
      ],
      "metadata": {
        "id": "Arb5EjOnoRyE"
      }
    },
    {
      "cell_type": "code",
      "source": [
        "# city sales analysis for all 3 years\n",
        "city = df.groupby('City')\n",
        "city_sales = city.sum()['Sales']\n",
        "city_sales"
      ],
      "metadata": {
        "colab": {
          "base_uri": "https://localhost:8080/"
        },
        "id": "jT2UMuUBhhcK",
        "outputId": "efeef7af-83ed-4bfa-b113-fbd678f03e38"
      },
      "execution_count": 533,
      "outputs": [
        {
          "output_type": "stream",
          "name": "stderr",
          "text": [
            "<ipython-input-533-9973ec438147>:3: FutureWarning: The default value of numeric_only in DataFrameGroupBy.sum is deprecated. In a future version, numeric_only will default to False. Either specify numeric_only or select only columns which should be valid for the function.\n",
            "  city_sales = city.sum()['Sales']\n"
          ]
        },
        {
          "output_type": "execute_result",
          "data": {
            "text/plain": [
              "City\n",
              "Bodi              667177\n",
              "Chennai           634963\n",
              "Coimbatore        634748\n",
              "Cumbum            626047\n",
              "Dharmapuri        571553\n",
              "Dindigul          575631\n",
              "Kanyakumari       706764\n",
              "Karur             642273\n",
              "Krishnagiri       637273\n",
              "Madurai           617836\n",
              "Nagercoil         551435\n",
              "Namakkal          598530\n",
              "Ooty              599292\n",
              "Perambalur        659738\n",
              "Pudukottai        653179\n",
              "Ramanadhapuram    634386\n",
              "Salem             657093\n",
              "Tenkasi           643652\n",
              "Theni             579553\n",
              "Tirunelveli       659812\n",
              "Trichy            541403\n",
              "Vellore           676550\n",
              "Viluppuram        581274\n",
              "Virudhunagar      606820\n",
              "Name: Sales, dtype: int64"
            ]
          },
          "metadata": {},
          "execution_count": 533
        }
      ]
    },
    {
      "cell_type": "code",
      "source": [
        "# vizualizing the city sales data for the 3 years\n",
        "\n",
        "city_sales_analysis = [product for product, df in city]\n",
        "\n",
        "# bar plot\n",
        "plt.figure(figsize=(16,5))\n",
        "plt.bar(city_sales_analysis, city_sales)\n",
        "plt.ylabel('Number of sales')\n",
        "plt.xlabel('City')\n",
        "plt.xticks(city_sales_analysis, rotation='vertical', size=8)\n",
        "plt.show()"
      ],
      "metadata": {
        "colab": {
          "base_uri": "https://localhost:8080/",
          "height": 555
        },
        "id": "Tq0wqqBChaFI",
        "outputId": "d6485748-f634-4529-98a8-acde63e73b3a"
      },
      "execution_count": 582,
      "outputs": [
        {
          "output_type": "display_data",
          "data": {
            "text/plain": [
              "<Figure size 1600x500 with 1 Axes>"
            ],
            "image/png": "[encoded data removed]"
          },
          "metadata": {}
        }
      ]
    },
    {
      "cell_type": "markdown",
      "source": [
        "##Total number of purchases / sales to per customer"
      ],
      "metadata": {
        "id": "_zls1ylalZoK"
      }
    },
    {
      "cell_type": "code",
      "source": [
        "# Total number of sales to per customer\n",
        "customers = df.groupby('Customer Name')\n",
        "customer_sales = customers.sum()['Sales']\n",
        "customer_sales\n"
      ],
      "metadata": {
        "id": "q_UYC8o3lfQ5",
        "colab": {
          "base_uri": "https://localhost:8080/"
        },
        "outputId": "a74e1ed8-bc54-4d3f-ef9c-b1c1891bd5a5"
      },
      "execution_count": 535,
      "outputs": [
        {
          "output_type": "stream",
          "name": "stderr",
          "text": [
            "<ipython-input-535-460aea406f29>:3: FutureWarning: The default value of numeric_only in DataFrameGroupBy.sum is deprecated. In a future version, numeric_only will default to False. Either specify numeric_only or select only columns which should be valid for the function.\n",
            "  customer_sales = customers.sum()['Sales']\n"
          ]
        },
        {
          "output_type": "execute_result",
          "data": {
            "text/plain": [
              "Customer Name\n",
              "Adavan      315341\n",
              "Aditi       299674\n",
              "Akash       307488\n",
              "Alan        294397\n",
              "Amrish      333351\n",
              "Amy         301558\n",
              "Anu         283735\n",
              "Arutra      325720\n",
              "Arvind      293802\n",
              "Esther      283656\n",
              "Ganesh      278349\n",
              "Hafiz       251965\n",
              "Harish      293839\n",
              "Haseena     298924\n",
              "Hussain     307337\n",
              "Jackson     271793\n",
              "James       305915\n",
              "Jonas       293489\n",
              "Komal       295671\n",
              "Krithika    334361\n",
              "Kumar       262623\n",
              "Malik       290884\n",
              "Mathew      308376\n",
              "Muneer      311553\n",
              "Peer        307026\n",
              "Ram         295338\n",
              "Ramesh      292087\n",
              "Ravi        305591\n",
              "Ridhesh     309639\n",
              "Roshan      298463\n",
              "Rumaiza     284534\n",
              "Sabeela     288230\n",
              "Shah        318588\n",
              "Sharon      289486\n",
              "Sheeba      308720\n",
              "Shree       292566\n",
              "Sudeep      309196\n",
              "Sudha       273493\n",
              "Sundar      287151\n",
              "Suresh      315973\n",
              "Surya       312645\n",
              "Veena       299160\n",
              "Verma       331665\n",
              "Veronica    301611\n",
              "Vidya       321798\n",
              "Vince       284536\n",
              "Vinne       319565\n",
              "Willams     293597\n",
              "Yadav       273162\n",
              "Yusuf       299361\n",
              "Name: Sales, dtype: int64"
            ]
          },
          "metadata": {},
          "execution_count": 535
        }
      ]
    },
    {
      "cell_type": "code",
      "source": [
        "# vizualizing Total number of sales to per customer\n",
        "\n",
        "customer_sales_analysis = [product for product, df in customers]\n",
        "\n",
        "# bar plot\n",
        "plt.figure(figsize=(17,5))\n",
        "plt.bar(customer_sales_analysis, customer_sales)\n",
        "plt.ylabel('Number of sales')\n",
        "plt.xlabel('Customer')\n",
        "plt.xticks(customer_sales_analysis, rotation='vertical', size=8)\n",
        "# bar width\n",
        "plt.show()"
      ],
      "metadata": {
        "colab": {
          "base_uri": "https://localhost:8080/",
          "height": 504
        },
        "id": "LY1pOl9cNb7N",
        "outputId": "454c9051-96f9-4cf0-8509-442d92665769"
      },
      "execution_count": 581,
      "outputs": [
        {
          "output_type": "display_data",
          "data": {
            "text/plain": [
              "<Figure size 1700x500 with 1 Axes>"
            ],
            "image/png": "[encoded data removed]"
          },
          "metadata": {}
        }
      ]
    },
    {
      "cell_type": "markdown",
      "source": [
        "##Total number of sales by region"
      ],
      "metadata": {
        "id": "3UYJSaEgOkAA"
      }
    },
    {
      "cell_type": "code",
      "source": [
        "# sales analysis by region\n",
        "regions = df.groupby('Region')\n",
        "region_sales = regions.sum()['Sales']\n",
        "region_sales\n"
      ],
      "metadata": {
        "colab": {
          "base_uri": "https://localhost:8080/"
        },
        "id": "IVD_u7DNO4AA",
        "outputId": "d1547d8b-7c87-4172-ed1f-05b1e30f7cef"
      },
      "execution_count": 537,
      "outputs": [
        {
          "output_type": "stream",
          "name": "stderr",
          "text": [
            "<ipython-input-537-7032e750793f>:3: FutureWarning: The default value of numeric_only in DataFrameGroupBy.sum is deprecated. In a future version, numeric_only will default to False. Either specify numeric_only or select only columns which should be valid for the function.\n",
            "  region_sales = regions.sum()['Sales']\n"
          ]
        },
        {
          "output_type": "execute_result",
          "data": {
            "text/plain": [
              "Region\n",
              "Central    3468156\n",
              "East       4248368\n",
              "North         1254\n",
              "South      2440461\n",
              "West       4798743\n",
              "Name: Sales, dtype: int64"
            ]
          },
          "metadata": {},
          "execution_count": 537
        }
      ]
    },
    {
      "cell_type": "code",
      "source": [
        "# vizualizing sales analysis by region\n",
        "\n",
        "region_sales_analysis = [product for product, df in regions]\n",
        "\n",
        "# bar plot\n",
        "plt.figure(figsize=(16,5))\n",
        "plt.bar(region_sales_analysis, region_sales)\n",
        "plt.ylabel('Number of sales')\n",
        "plt.xlabel('Region')\n",
        "plt.xticks(region_sales_analysis, rotation='vertical', size=8)\n",
        "# bar width\n",
        "plt.show()"
      ],
      "metadata": {
        "colab": {
          "base_uri": "https://localhost:8080/",
          "height": 507
        },
        "id": "pCbi8DsAO8xM",
        "outputId": "14d5b9b7-dd1b-4ce9-ec9c-4513e6e517d2"
      },
      "execution_count": 579,
      "outputs": [
        {
          "output_type": "display_data",
          "data": {
            "text/plain": [
              "<Figure size 1600x500 with 1 Axes>"
            ],
            "image/png": "[encoded data removed]"
          },
          "metadata": {}
        }
      ]
    },
    {
      "cell_type": "markdown",
      "source": [
        "##Sales analysis by state"
      ],
      "metadata": {
        "id": "yhZi2Q0TPuJY"
      }
    },
    {
      "cell_type": "code",
      "source": [
        "# sales analysis by state\n",
        "states = df.groupby('State')\n",
        "states_sales = states.sum()['Sales']\n",
        "states_sales"
      ],
      "metadata": {
        "colab": {
          "base_uri": "https://localhost:8080/"
        },
        "id": "c6H72CJJPx5X",
        "outputId": "81f10d0e-f591-4d3c-b898-18d2e5038a29"
      },
      "execution_count": 539,
      "outputs": [
        {
          "output_type": "stream",
          "name": "stderr",
          "text": [
            "<ipython-input-539-7d37d4699a62>:3: FutureWarning: The default value of numeric_only in DataFrameGroupBy.sum is deprecated. In a future version, numeric_only will default to False. Either specify numeric_only or select only columns which should be valid for the function.\n",
            "  states_sales = states.sum()['Sales']\n"
          ]
        },
        {
          "output_type": "execute_result",
          "data": {
            "text/plain": [
              "State\n",
              "Tamil Nadu    14956982\n",
              "Name: Sales, dtype: int64"
            ]
          },
          "metadata": {},
          "execution_count": 539
        }
      ]
    },
    {
      "cell_type": "code",
      "source": [
        "# vizualizing sales analysis by state\n",
        "\n",
        "states_sales_analysis = [product for product, df in states]\n",
        "\n",
        "# bar plot\n",
        "plt.bar(states_sales_analysis, states_sales)\n",
        "plt.ylabel('Number of sales')\n",
        "plt.xlabel('State')\n",
        "plt.xticks(states_sales_analysis, rotation='vertical', size=8)\n",
        "# bar width\n",
        "plt.show()"
      ],
      "metadata": {
        "colab": {
          "base_uri": "https://localhost:8080/",
          "height": 512
        },
        "id": "6E1fqt2ePz1f",
        "outputId": "1fd4553f-8c45-451d-bc94-666ed4b50fac"
      },
      "execution_count": 540,
      "outputs": [
        {
          "output_type": "display_data",
          "data": {
            "text/plain": [
              "<Figure size 640x480 with 1 Axes>"
            ],
            "image/png": "[encoded data removed]"
          },
          "metadata": {}
        }
      ]
    },
    {
      "cell_type": "markdown",
      "source": [
        "##PROFITS ANALYSIS FOR ALL THE 4 YEARS"
      ],
      "metadata": {
        "id": "WPzJjXIDQtJc"
      }
    },
    {
      "cell_type": "markdown",
      "source": [
        "##Total profits per region"
      ],
      "metadata": {
        "id": "fYTJuEbPQyMl"
      }
    },
    {
      "cell_type": "code",
      "source": [
        "# profit analysis by region\n",
        "regions_filter = df.groupby('Region')\n",
        "regions_filter_profits = regions_filter.sum()['Profit']\n",
        "regions_filter_profits"
      ],
      "metadata": {
        "colab": {
          "base_uri": "https://localhost:8080/"
        },
        "id": "EFLFvh1uQ0ft",
        "outputId": "2e94c4b4-a782-4a6f-ef10-91366f618c0a"
      },
      "execution_count": 541,
      "outputs": [
        {
          "output_type": "stream",
          "name": "stderr",
          "text": [
            "<ipython-input-541-6858f55f2938>:3: FutureWarning: The default value of numeric_only in DataFrameGroupBy.sum is deprecated. In a future version, numeric_only will default to False. Either specify numeric_only or select only columns which should be valid for the function.\n",
            "  regions_filter_profits = regions_filter.sum()['Profit']\n"
          ]
        },
        {
          "output_type": "execute_result",
          "data": {
            "text/plain": [
              "Region\n",
              "Central     856806.84\n",
              "East       1074345.58\n",
              "North          401.28\n",
              "South       623562.89\n",
              "West       1192004.61\n",
              "Name: Profit, dtype: float64"
            ]
          },
          "metadata": {},
          "execution_count": 541
        }
      ]
    },
    {
      "cell_type": "code",
      "source": [
        "# profit analysis by region\n",
        "\n",
        "regions_filter_profits_analysis = [product for product, df in regions_filter]\n",
        "\n",
        "# bar plot\n",
        "plt.figure(figsize=(16,5))\n",
        "plt.bar(regions_filter_profits_analysis, regions_filter_profits)\n",
        "plt.ylabel('Number of Profits')\n",
        "plt.xlabel('Region')\n",
        "plt.xticks(regions_filter_profits_analysis, rotation='vertical', size=8)\n",
        "# bar width\n",
        "plt.show()"
      ],
      "metadata": {
        "colab": {
          "base_uri": "https://localhost:8080/",
          "height": 507
        },
        "id": "1OEebfb1SYVq",
        "outputId": "f988d639-0bb8-494a-d12e-7a801a7b59ab"
      },
      "execution_count": 577,
      "outputs": [
        {
          "output_type": "display_data",
          "data": {
            "text/plain": [
              "<Figure size 1600x500 with 1 Axes>"
            ],
            "image/png": "[encoded data removed]"
          },
          "metadata": {}
        }
      ]
    },
    {
      "cell_type": "markdown",
      "source": [
        "## Total profits analysis per city"
      ],
      "metadata": {
        "id": "GC_3m2OHWoBH"
      }
    },
    {
      "cell_type": "code",
      "source": [
        "# profit analysis by city\n",
        "cities_filter = df.groupby('City')\n",
        "cities_filter_profits = cities_filter.sum()['Profit']\n",
        "cities_filter_profits"
      ],
      "metadata": {
        "colab": {
          "base_uri": "https://localhost:8080/"
        },
        "id": "XZLTQC6BWqv7",
        "outputId": "243e3bac-bb1e-41fb-d06c-5422cbf4c1f6"
      },
      "execution_count": 543,
      "outputs": [
        {
          "output_type": "stream",
          "name": "stderr",
          "text": [
            "<ipython-input-543-b596681e7548>:3: FutureWarning: The default value of numeric_only in DataFrameGroupBy.sum is deprecated. In a future version, numeric_only will default to False. Either specify numeric_only or select only columns which should be valid for the function.\n",
            "  cities_filter_profits = cities_filter.sum()['Profit']\n"
          ]
        },
        {
          "output_type": "execute_result",
          "data": {
            "text/plain": [
              "City\n",
              "Bodi              173655.13\n",
              "Chennai           160921.33\n",
              "Coimbatore        157399.41\n",
              "Cumbum            156355.13\n",
              "Dharmapuri        141593.05\n",
              "Dindigul          144872.95\n",
              "Kanyakumari       172217.74\n",
              "Karur             169305.94\n",
              "Krishnagiri       160477.48\n",
              "Madurai           152548.61\n",
              "Nagercoil         137848.47\n",
              "Namakkal          145502.10\n",
              "Ooty              150078.92\n",
              "Perambalur        171132.19\n",
              "Pudukottai        164072.63\n",
              "Ramanadhapuram    158951.03\n",
              "Salem             160899.30\n",
              "Tenkasi           156230.72\n",
              "Theni             142739.78\n",
              "Tirunelveli       165169.01\n",
              "Trichy            136059.94\n",
              "Vellore           174073.01\n",
              "Viluppuram        144200.64\n",
              "Virudhunagar      150816.69\n",
              "Name: Profit, dtype: float64"
            ]
          },
          "metadata": {},
          "execution_count": 543
        }
      ]
    },
    {
      "cell_type": "code",
      "source": [
        "# profit analysis by city\n",
        "\n",
        "city_filter_profits_analysis = [product for product, df in cities_filter]\n",
        "\n",
        "# bar plot\n",
        "plt.figure(figsize=(16,5))\n",
        "plt.bar(city_filter_profits_analysis, cities_filter_profits)\n",
        "plt.ylabel('Total Profits')\n",
        "plt.xlabel('City')\n",
        "plt.xticks(city_filter_profits_analysis, rotation='vertical', size=8)\n",
        "# bar width\n",
        "plt.show()"
      ],
      "metadata": {
        "colab": {
          "base_uri": "https://localhost:8080/",
          "height": 555
        },
        "id": "yrObkdfEW3fE",
        "outputId": "91ce49c3-5a8c-4b8d-f851-fd284eccd957"
      },
      "execution_count": 576,
      "outputs": [
        {
          "output_type": "display_data",
          "data": {
            "text/plain": [
              "<Figure size 1600x500 with 1 Axes>"
            ],
            "image/png": "[encoded data removed]"
          },
          "metadata": {}
        }
      ]
    },
    {
      "cell_type": "markdown",
      "source": [
        "##Total profits analysis per state"
      ],
      "metadata": {
        "id": "59qSesEQX_Bp"
      }
    },
    {
      "cell_type": "code",
      "source": [
        "# profit analysis by state\n",
        "states_filter = df.groupby('State')\n",
        "states_filter_profits = states_filter.sum()['Profit']\n",
        "states_filter_profits"
      ],
      "metadata": {
        "colab": {
          "base_uri": "https://localhost:8080/"
        },
        "id": "hdXYqu01v04q",
        "outputId": "62ab456f-5c5e-45df-d022-6fe82481dadf"
      },
      "execution_count": 545,
      "outputs": [
        {
          "output_type": "stream",
          "name": "stderr",
          "text": [
            "<ipython-input-545-ee40a38bfa27>:3: FutureWarning: The default value of numeric_only in DataFrameGroupBy.sum is deprecated. In a future version, numeric_only will default to False. Either specify numeric_only or select only columns which should be valid for the function.\n",
            "  states_filter_profits = states_filter.sum()['Profit']\n"
          ]
        },
        {
          "output_type": "execute_result",
          "data": {
            "text/plain": [
              "State\n",
              "Tamil Nadu    3747121.2\n",
              "Name: Profit, dtype: float64"
            ]
          },
          "metadata": {},
          "execution_count": 545
        }
      ]
    },
    {
      "cell_type": "code",
      "source": [
        "# profit analysis by state\n",
        "\n",
        "state_filter_profits_analysis = [product for product, df in states_filter]\n",
        "\n",
        "# bar plot\n",
        "plt.bar(state_filter_profits_analysis, states_filter_profits)\n",
        "plt.ylabel('Total profits')\n",
        "plt.xlabel('State')\n",
        "plt.xticks(state_filter_profits_analysis, rotation='vertical', size=8)\n",
        "# bar width\n",
        "plt.show()"
      ],
      "metadata": {
        "colab": {
          "base_uri": "https://localhost:8080/",
          "height": 512
        },
        "id": "oP-xIoRXwND_",
        "outputId": "b8beab23-386d-4779-f2b0-e9f7ee8c4e6b"
      },
      "execution_count": 546,
      "outputs": [
        {
          "output_type": "display_data",
          "data": {
            "text/plain": [
              "<Figure size 640x480 with 1 Axes>"
            ],
            "image/png": "[encoded data removed]"
          },
          "metadata": {}
        }
      ]
    },
    {
      "cell_type": "markdown",
      "source": [
        "##Total profits per product category"
      ],
      "metadata": {
        "id": "OTDl8Awk2bAx"
      }
    },
    {
      "cell_type": "code",
      "source": [
        "# profit analysis by category\n",
        "category_filter = df.groupby('Category')\n",
        "category_filter_profits = category_filter.sum()['Profit']\n",
        "category_filter_profits"
      ],
      "metadata": {
        "colab": {
          "base_uri": "https://localhost:8080/"
        },
        "id": "K54BuT4Z33N9",
        "outputId": "8e0a97a0-72c1-4701-88b5-ae96c16435b0"
      },
      "execution_count": 547,
      "outputs": [
        {
          "output_type": "stream",
          "name": "stderr",
          "text": [
            "<ipython-input-547-16528dbd8ebb>:3: FutureWarning: The default value of numeric_only in DataFrameGroupBy.sum is deprecated. In a future version, numeric_only will default to False. Either specify numeric_only or select only columns which should be valid for the function.\n",
            "  category_filter_profits = category_filter.sum()['Profit']\n"
          ]
        },
        {
          "output_type": "execute_result",
          "data": {
            "text/plain": [
              "Category\n",
              "Bakery               528521.06\n",
              "Beverages            525605.76\n",
              "Eggs, Meat & Fish    567357.22\n",
              "Food Grains          529162.64\n",
              "Fruits & Veggies     530400.38\n",
              "Oil & Masala         497895.29\n",
              "Snacks               568178.85\n",
              "Name: Profit, dtype: float64"
            ]
          },
          "metadata": {},
          "execution_count": 547
        }
      ]
    },
    {
      "cell_type": "code",
      "source": [
        "# profit analysis by product category\n",
        "\n",
        "category_filter_profits_analysis = [product for product, df in category_filter]\n",
        "\n",
        "# bar plot\n",
        "plt.figure(figsize=(16,5))\n",
        "plt.bar(category_filter_profits_analysis, category_filter_profits)\n",
        "plt.ylabel('Total profits')\n",
        "plt.xlabel('Category')\n",
        "plt.xticks(category_filter_profits_analysis, rotation='vertical', size=8)\n",
        "# bar width\n",
        "plt.show()"
      ],
      "metadata": {
        "colab": {
          "base_uri": "https://localhost:8080/",
          "height": 550
        },
        "id": "gxG2HSGU4KG7",
        "outputId": "3eef808a-615c-4fd4-904a-d347e930e0cb"
      },
      "execution_count": 575,
      "outputs": [
        {
          "output_type": "display_data",
          "data": {
            "text/plain": [
              "<Figure size 1600x500 with 1 Axes>"
            ],
            "image/png": "[encoded data removed]"
          },
          "metadata": {}
        }
      ]
    },
    {
      "cell_type": "markdown",
      "source": [
        "##Total profits per Sub category"
      ],
      "metadata": {
        "id": "Tlu78Ham2dQ8"
      }
    },
    {
      "cell_type": "code",
      "source": [
        "\n",
        "\n",
        "# profit analysis by Sub category\n",
        "sub_category_filter = df.groupby('Sub Category')\n",
        "sub_category_filter_profits = sub_category_filter.sum()['Profit']\n",
        "sub_category_filter_profits"
      ],
      "metadata": {
        "colab": {
          "base_uri": "https://localhost:8080/"
        },
        "id": "85yoJvYA4vdK",
        "outputId": "52a5e114-7138-4414-ae44-26ac40a46b83"
      },
      "execution_count": 549,
      "outputs": [
        {
          "output_type": "stream",
          "name": "stderr",
          "text": [
            "<ipython-input-549-56102f20ebd1>:3: FutureWarning: The default value of numeric_only in DataFrameGroupBy.sum is deprecated. In a future version, numeric_only will default to False. Either specify numeric_only or select only columns which should be valid for the function.\n",
            "  sub_category_filter_profits = sub_category_filter.sum()['Profit']\n"
          ]
        },
        {
          "output_type": "execute_result",
          "data": {
            "text/plain": [
              "Sub Category\n",
              "Atta & Flour          127861.10\n",
              "Biscuits              169357.62\n",
              "Breads & Buns         190764.98\n",
              "Cakes                 168398.46\n",
              "Chicken               124049.89\n",
              "Chocolates            183849.34\n",
              "Cookies               190643.70\n",
              "Dals & Pulses         130232.29\n",
              "Edible Oil & Ghee     168593.58\n",
              "Eggs                  144669.92\n",
              "Fish                  147248.01\n",
              "Fresh Fruits          134668.35\n",
              "Fresh Vegetables      131273.33\n",
              "Health Drinks         267469.79\n",
              "Masalas               168999.11\n",
              "Mutton                151389.40\n",
              "Noodles               193685.81\n",
              "Organic Fruits        130862.33\n",
              "Organic Staples       144136.89\n",
              "Organic Vegetables    133596.37\n",
              "Rice                  126932.36\n",
              "Soft Drinks           258135.97\n",
              "Spices                160302.60\n",
              "Name: Profit, dtype: float64"
            ]
          },
          "metadata": {},
          "execution_count": 549
        }
      ]
    },
    {
      "cell_type": "code",
      "source": [
        "# profit analysis by product subcategory\n",
        "\n",
        "sub_category_filter_profits_analysis = [product for product, df in sub_category_filter]\n",
        "\n",
        "# bar plot\n",
        "plt.figure(figsize=(16,5))\n",
        "plt.bar(sub_category_filter_profits_analysis, sub_category_filter_profits)\n",
        "plt.ylabel('Total profits')\n",
        "plt.xlabel('Sub Category')\n",
        "plt.xticks(sub_category_filter_profits_analysis, rotation='vertical', size=8)\n",
        "# bar width\n",
        "plt.show()"
      ],
      "metadata": {
        "colab": {
          "base_uri": "https://localhost:8080/",
          "height": 559
        },
        "id": "u7sa4ejh5FE1",
        "outputId": "798715a1-6aef-486a-91e2-643b62ed10ac"
      },
      "execution_count": 574,
      "outputs": [
        {
          "output_type": "display_data",
          "data": {
            "text/plain": [
              "<Figure size 1600x500 with 1 Axes>"
            ],
            "image/png": "[encoded data removed]"
          },
          "metadata": {}
        }
      ]
    },
    {
      "cell_type": "markdown",
      "source": [
        "##BUSINESS PERFORMANCE ANALYSIS ANNUALLY"
      ],
      "metadata": {
        "id": "O2SGN1dYFf_Q"
      }
    },
    {
      "cell_type": "markdown",
      "source": [
        "Create a new dataset that shows the year column for annual business analysis"
      ],
      "metadata": {
        "id": "VRLamXN0F-Nf"
      }
    },
    {
      "cell_type": "code",
      "source": [
        "# general dataframe\n",
        "df.head(5)"
      ],
      "metadata": {
        "colab": {
          "base_uri": "https://localhost:8080/",
          "height": 206
        },
        "id": "00lXJvQ-GFCt",
        "outputId": "fc0e04b5-4110-47b5-ad57-f5c54c3e9cf9"
      },
      "execution_count": 551,
      "outputs": [
        {
          "output_type": "execute_result",
          "data": {
            "text/plain": [
              "  Order ID Customer Name          Category      Sub Category         City  \\\n",
              "0      OD1        Harish      Oil & Masala           Masalas      Vellore   \n",
              "1      OD2         Sudha         Beverages     Health Drinks  Krishnagiri   \n",
              "2      OD3       Hussain       Food Grains      Atta & Flour   Perambalur   \n",
              "3      OD4       Jackson  Fruits & Veggies  Fresh Vegetables   Dharmapuri   \n",
              "4      OD5       Ridhesh       Food Grains   Organic Staples         Ooty   \n",
              "\n",
              "   Order Date Region  Sales  Discount  Profit       State  \n",
              "0  11-08-2017  North   1254      0.12  401.28  Tamil Nadu  \n",
              "1  11-08-2017  South    749      0.18  149.80  Tamil Nadu  \n",
              "2  06-12-2017   West   2360      0.21  165.20  Tamil Nadu  \n",
              "3  10-11-2016  South    896      0.25   89.60  Tamil Nadu  \n",
              "4  10-11-2016  South   2355      0.26  918.45  Tamil Nadu  "
            ],
            "text/html": [
              "\n",
              "\n",
              "  <div id=\"df-83c62e58-a0bb-4c55-8dd9-8a0e20a10f15\">\n",
              "    <div class=\"colab-df-container\">\n",
              "      <div>\n",
              "<style scoped>\n",
              "    .dataframe tbody tr th:only-of-type {\n",
              "        vertical-align: middle;\n",
              "    }\n",
              "\n",
              "    .dataframe tbody tr th {\n",
              "        vertical-align: top;\n",
              "    }\n",
              "\n",
              "    .dataframe thead th {\n",
              "        text-align: right;\n",
              "    }\n",
              "</style>\n",
              "<table border=\"1\" class=\"dataframe\">\n",
              "  <thead>\n",
              "    <tr style=\"text-align: right;\">\n",
              "      <th></th>\n",
              "      <th>Order ID</th>\n",
              "      <th>Customer Name</th>\n",
              "      <th>Category</th>\n",
              "      <th>Sub Category</th>\n",
              "      <th>City</th>\n",
              "      <th>Order Date</th>\n",
              "      <th>Region</th>\n",
              "      <th>Sales</th>\n",
              "      <th>Discount</th>\n",
              "      <th>Profit</th>\n",
              "      <th>State</th>\n",
              "    </tr>\n",
              "  </thead>\n",
              "  <tbody>\n",
              "    <tr>\n",
              "      <th>0</th>\n",
              "      <td>OD1</td>\n",
              "      <td>Harish</td>\n",
              "      <td>Oil &amp; Masala</td>\n",
              "      <td>Masalas</td>\n",
              "      <td>Vellore</td>\n",
              "      <td>11-08-2017</td>\n",
              "      <td>North</td>\n",
              "      <td>1254</td>\n",
              "      <td>0.12</td>\n",
              "      <td>401.28</td>\n",
              "      <td>Tamil Nadu</td>\n",
              "    </tr>\n",
              "    <tr>\n",
              "      <th>1</th>\n",
              "      <td>OD2</td>\n",
              "      <td>Sudha</td>\n",
              "      <td>Beverages</td>\n",
              "      <td>Health Drinks</td>\n",
              "      <td>Krishnagiri</td>\n",
              "      <td>11-08-2017</td>\n",
              "      <td>South</td>\n",
              "      <td>749</td>\n",
              "      <td>0.18</td>\n",
              "      <td>149.80</td>\n",
              "      <td>Tamil Nadu</td>\n",
              "    </tr>\n",
              "    <tr>\n",
              "      <th>2</th>\n",
              "      <td>OD3</td>\n",
              "      <td>Hussain</td>\n",
              "      <td>Food Grains</td>\n",
              "      <td>Atta &amp; Flour</td>\n",
              "      <td>Perambalur</td>\n",
              "      <td>06-12-2017</td>\n",
              "      <td>West</td>\n",
              "      <td>2360</td>\n",
              "      <td>0.21</td>\n",
              "      <td>165.20</td>\n",
              "      <td>Tamil Nadu</td>\n",
              "    </tr>\n",
              "    <tr>\n",
              "      <th>3</th>\n",
              "      <td>OD4</td>\n",
              "      <td>Jackson</td>\n",
              "      <td>Fruits &amp; Veggies</td>\n",
              "      <td>Fresh Vegetables</td>\n",
              "      <td>Dharmapuri</td>\n",
              "      <td>10-11-2016</td>\n",
              "      <td>South</td>\n",
              "      <td>896</td>\n",
              "      <td>0.25</td>\n",
              "      <td>89.60</td>\n",
              "      <td>Tamil Nadu</td>\n",
              "    </tr>\n",
              "    <tr>\n",
              "      <th>4</th>\n",
              "      <td>OD5</td>\n",
              "      <td>Ridhesh</td>\n",
              "      <td>Food Grains</td>\n",
              "      <td>Organic Staples</td>\n",
              "      <td>Ooty</td>\n",
              "      <td>10-11-2016</td>\n",
              "      <td>South</td>\n",
              "      <td>2355</td>\n",
              "      <td>0.26</td>\n",
              "      <td>918.45</td>\n",
              "      <td>Tamil Nadu</td>\n",
              "    </tr>\n",
              "  </tbody>\n",
              "</table>\n",
              "</div>\n",
              "      <button class=\"colab-df-convert\" onclick=\"convertToInteractive('df-83c62e58-a0bb-4c55-8dd9-8a0e20a10f15')\"\n",
              "              title=\"Convert this dataframe to an interactive table.\"\n",
              "              style=\"display:none;\">\n",
              "\n",
              "  <svg xmlns=\"http://www.w3.org/2000/svg\" height=\"24px\"viewBox=\"0 0 24 24\"\n",
              "       width=\"24px\">\n",
              "    <path d=\"M0 0h24v24H0V0z\" fill=\"none\"/>\n",
              "    <path d=\"M18.56 5.44l.94 2.06.94-2.06 2.06-.94-2.06-.94-.94-2.06-.94 2.06-2.06.94zm-11 1L8.5 8.5l.94-2.06 2.06-.94-2.06-.94L8.5 2.5l-.94 2.06-2.06.94zm10 10l.94 2.06.94-2.06 2.06-.94-2.06-.94-.94-2.06-.94 2.06-2.06.94z\"/><path d=\"M17.41 7.96l-1.37-1.37c-.4-.4-.92-.59-1.43-.59-.52 0-1.04.2-1.43.59L10.3 9.45l-7.72 7.72c-.78.78-.78 2.05 0 2.83L4 21.41c.39.39.9.59 1.41.59.51 0 1.02-.2 1.41-.59l7.78-7.78 2.81-2.81c.8-.78.8-2.07 0-2.86zM5.41 20L4 18.59l7.72-7.72 1.47 1.35L5.41 20z\"/>\n",
              "  </svg>\n",
              "      </button>\n",
              "\n",
              "\n",
              "\n",
              "    <div id=\"df-ae25d57c-21ed-4d75-a404-bda49284724c\">\n",
              "      <button class=\"colab-df-quickchart\" onclick=\"quickchart('df-ae25d57c-21ed-4d75-a404-bda49284724c')\"\n",
              "              title=\"Suggest charts.\"\n",
              "              style=\"display:none;\">\n",
              "\n",
              "<svg xmlns=\"http://www.w3.org/2000/svg\" height=\"24px\"viewBox=\"0 0 24 24\"\n",
              "     width=\"24px\">\n",
              "    <g>\n",
              "        <path d=\"M19 3H5c-1.1 0-2 .9-2 2v14c0 1.1.9 2 2 2h14c1.1 0 2-.9 2-2V5c0-1.1-.9-2-2-2zM9 17H7v-7h2v7zm4 0h-2V7h2v10zm4 0h-2v-4h2v4z\"/>\n",
              "    </g>\n",
              "</svg>\n",
              "      </button>\n",
              "    </div>\n",
              "\n",
              "<style>\n",
              "  .colab-df-quickchart {\n",
              "    background-color: #E8F0FE;\n",
              "    border: none;\n",
              "    border-radius: 50%;\n",
              "    cursor: pointer;\n",
              "    display: none;\n",
              "    fill: #1967D2;\n",
              "    height: 32px;\n",
              "    padding: 0 0 0 0;\n",
              "    width: 32px;\n",
              "  }\n",
              "\n",
              "  .colab-df-quickchart:hover {\n",
              "    background-color: #E2EBFA;\n",
              "    box-shadow: 0px 1px 2px rgba(60, 64, 67, 0.3), 0px 1px 3px 1px rgba(60, 64, 67, 0.15);\n",
              "    fill: #174EA6;\n",
              "  }\n",
              "\n",
              "  [theme=dark] .colab-df-quickchart {\n",
              "    background-color: #3B4455;\n",
              "    fill: #D2E3FC;\n",
              "  }\n",
              "\n",
              "  [theme=dark] .colab-df-quickchart:hover {\n",
              "    background-color: #434B5C;\n",
              "    box-shadow: 0px 1px 3px 1px rgba(0, 0, 0, 0.15);\n",
              "    filter: drop-shadow(0px 1px 2px rgba(0, 0, 0, 0.3));\n",
              "    fill: #FFFFFF;\n",
              "  }\n",
              "</style>\n",
              "\n",
              "    <script>\n",
              "      async function quickchart(key) {\n",
              "        const containerElement = document.querySelector('#' + key);\n",
              "        const charts = await google.colab.kernel.invokeFunction(\n",
              "            'suggestCharts', [key], {});\n",
              "      }\n",
              "    </script>\n",
              "\n",
              "      <script>\n",
              "\n",
              "function displayQuickchartButton(domScope) {\n",
              "  let quickchartButtonEl =\n",
              "    domScope.querySelector('#df-ae25d57c-21ed-4d75-a404-bda49284724c button.colab-df-quickchart');\n",
              "  quickchartButtonEl.style.display =\n",
              "    google.colab.kernel.accessAllowed ? 'block' : 'none';\n",
              "}\n",
              "\n",
              "        displayQuickchartButton(document);\n",
              "      </script>\n",
              "      <style>\n",
              "    .colab-df-container {\n",
              "      display:flex;\n",
              "      flex-wrap:wrap;\n",
              "      gap: 12px;\n",
              "    }\n",
              "\n",
              "    .colab-df-convert {\n",
              "      background-color: #E8F0FE;\n",
              "      border: none;\n",
              "      border-radius: 50%;\n",
              "      cursor: pointer;\n",
              "      display: none;\n",
              "      fill: #1967D2;\n",
              "      height: 32px;\n",
              "      padding: 0 0 0 0;\n",
              "      width: 32px;\n",
              "    }\n",
              "\n",
              "    .colab-df-convert:hover {\n",
              "      background-color: #E2EBFA;\n",
              "      box-shadow: 0px 1px 2px rgba(60, 64, 67, 0.3), 0px 1px 3px 1px rgba(60, 64, 67, 0.15);\n",
              "      fill: #174EA6;\n",
              "    }\n",
              "\n",
              "    [theme=dark] .colab-df-convert {\n",
              "      background-color: #3B4455;\n",
              "      fill: #D2E3FC;\n",
              "    }\n",
              "\n",
              "    [theme=dark] .colab-df-convert:hover {\n",
              "      background-color: #434B5C;\n",
              "      box-shadow: 0px 1px 3px 1px rgba(0, 0, 0, 0.15);\n",
              "      filter: drop-shadow(0px 1px 2px rgba(0, 0, 0, 0.3));\n",
              "      fill: #FFFFFF;\n",
              "    }\n",
              "  </style>\n",
              "\n",
              "      <script>\n",
              "        const buttonEl =\n",
              "          document.querySelector('#df-83c62e58-a0bb-4c55-8dd9-8a0e20a10f15 button.colab-df-convert');\n",
              "        buttonEl.style.display =\n",
              "          google.colab.kernel.accessAllowed ? 'block' : 'none';\n",
              "\n",
              "        async function convertToInteractive(key) {\n",
              "          const element = document.querySelector('#df-83c62e58-a0bb-4c55-8dd9-8a0e20a10f15');\n",
              "          const dataTable =\n",
              "            await google.colab.kernel.invokeFunction('convertToInteractive',\n",
              "                                                     [key], {});\n",
              "          if (!dataTable) return;\n",
              "\n",
              "          const docLinkHtml = 'Like what you see? Visit the ' +\n",
              "            '<a target=\"_blank\" href=https://colab.research.google.com/notebooks/data_table.ipynb>data table notebook</a>'\n",
              "            + ' to learn more about interactive tables.';\n",
              "          element.innerHTML = '';\n",
              "          dataTable['output_type'] = 'display_data';\n",
              "          await google.colab.output.renderOutput(dataTable, element);\n",
              "          const docLink = document.createElement('div');\n",
              "          docLink.innerHTML = docLinkHtml;\n",
              "          element.appendChild(docLink);\n",
              "        }\n",
              "      </script>\n",
              "    </div>\n",
              "  </div>\n"
            ]
          },
          "metadata": {},
          "execution_count": 551
        }
      ]
    },
    {
      "cell_type": "markdown",
      "source": [
        "Add the year column to the dataframe"
      ],
      "metadata": {
        "id": "A4NMcFHsGee8"
      }
    },
    {
      "cell_type": "code",
      "source": [
        "# dataframe with year column\n",
        "\n",
        "# convert the Order Date to datetime\n",
        "df['Order Date'] = pd.to_datetime(df['Order Date'])\n",
        "# add a column for Year\n",
        "df['Year'] = df['Order Date'].dt.year\n",
        "\n",
        "# print the dataframe\n",
        "df"
      ],
      "metadata": {
        "colab": {
          "base_uri": "https://localhost:8080/",
          "height": 423
        },
        "id": "-TpeAL78Ga0k",
        "outputId": "b47dc8e6-a033-4eea-be31-fa971adefa01"
      },
      "execution_count": 552,
      "outputs": [
        {
          "output_type": "execute_result",
          "data": {
            "text/plain": [
              "     Order ID Customer Name           Category      Sub Category         City  \\\n",
              "0         OD1        Harish       Oil & Masala           Masalas      Vellore   \n",
              "1         OD2         Sudha          Beverages     Health Drinks  Krishnagiri   \n",
              "2         OD3       Hussain        Food Grains      Atta & Flour   Perambalur   \n",
              "3         OD4       Jackson   Fruits & Veggies  Fresh Vegetables   Dharmapuri   \n",
              "4         OD5       Ridhesh        Food Grains   Organic Staples         Ooty   \n",
              "...       ...           ...                ...               ...          ...   \n",
              "9989   OD9990        Sudeep  Eggs, Meat & Fish              Eggs      Madurai   \n",
              "9990   OD9991          Alan             Bakery          Biscuits  Kanyakumari   \n",
              "9991   OD9992          Ravi        Food Grains              Rice         Bodi   \n",
              "9992   OD9993          Peer       Oil & Masala            Spices   Pudukottai   \n",
              "9993   OD9994        Ganesh        Food Grains      Atta & Flour  Tirunelveli   \n",
              "\n",
              "     Order Date Region  Sales  Discount  Profit       State  Year  \n",
              "0    2017-11-08  North   1254      0.12  401.28  Tamil Nadu  2017  \n",
              "1    2017-11-08  South    749      0.18  149.80  Tamil Nadu  2017  \n",
              "2    2017-06-12   West   2360      0.21  165.20  Tamil Nadu  2017  \n",
              "3    2016-10-11  South    896      0.25   89.60  Tamil Nadu  2016  \n",
              "4    2016-10-11  South   2355      0.26  918.45  Tamil Nadu  2016  \n",
              "...         ...    ...    ...       ...     ...         ...   ...  \n",
              "9989 2015-12-24   West    945      0.16  359.10  Tamil Nadu  2015  \n",
              "9990 2015-07-12   West   1195      0.26   71.70  Tamil Nadu  2015  \n",
              "9991 2017-06-06   West   1567      0.16  501.44  Tamil Nadu  2017  \n",
              "9992 2018-10-16   West   1659      0.15  597.24  Tamil Nadu  2018  \n",
              "9993 2018-04-17   West   1034      0.28  165.44  Tamil Nadu  2018  \n",
              "\n",
              "[9994 rows x 12 columns]"
            ],
            "text/html": [
              "\n",
              "\n",
              "  <div id=\"df-be85c835-2349-4f64-ac24-545f2a37d7bd\">\n",
              "    <div class=\"colab-df-container\">\n",
              "      <div>\n",
              "<style scoped>\n",
              "    .dataframe tbody tr th:only-of-type {\n",
              "        vertical-align: middle;\n",
              "    }\n",
              "\n",
              "    .dataframe tbody tr th {\n",
              "        vertical-align: top;\n",
              "    }\n",
              "\n",
              "    .dataframe thead th {\n",
              "        text-align: right;\n",
              "    }\n",
              "</style>\n",
              "<table border=\"1\" class=\"dataframe\">\n",
              "  <thead>\n",
              "    <tr style=\"text-align: right;\">\n",
              "      <th></th>\n",
              "      <th>Order ID</th>\n",
              "      <th>Customer Name</th>\n",
              "      <th>Category</th>\n",
              "      <th>Sub Category</th>\n",
              "      <th>City</th>\n",
              "      <th>Order Date</th>\n",
              "      <th>Region</th>\n",
              "      <th>Sales</th>\n",
              "      <th>Discount</th>\n",
              "      <th>Profit</th>\n",
              "      <th>State</th>\n",
              "      <th>Year</th>\n",
              "    </tr>\n",
              "  </thead>\n",
              "  <tbody>\n",
              "    <tr>\n",
              "      <th>0</th>\n",
              "      <td>OD1</td>\n",
              "      <td>Harish</td>\n",
              "      <td>Oil &amp; Masala</td>\n",
              "      <td>Masalas</td>\n",
              "      <td>Vellore</td>\n",
              "      <td>2017-11-08</td>\n",
              "      <td>North</td>\n",
              "      <td>1254</td>\n",
              "      <td>0.12</td>\n",
              "      <td>401.28</td>\n",
              "      <td>Tamil Nadu</td>\n",
              "      <td>2017</td>\n",
              "    </tr>\n",
              "    <tr>\n",
              "      <th>1</th>\n",
              "      <td>OD2</td>\n",
              "      <td>Sudha</td>\n",
              "      <td>Beverages</td>\n",
              "      <td>Health Drinks</td>\n",
              "      <td>Krishnagiri</td>\n",
              "      <td>2017-11-08</td>\n",
              "      <td>South</td>\n",
              "      <td>749</td>\n",
              "      <td>0.18</td>\n",
              "      <td>149.80</td>\n",
              "      <td>Tamil Nadu</td>\n",
              "      <td>2017</td>\n",
              "    </tr>\n",
              "    <tr>\n",
              "      <th>2</th>\n",
              "      <td>OD3</td>\n",
              "      <td>Hussain</td>\n",
              "      <td>Food Grains</td>\n",
              "      <td>Atta &amp; Flour</td>\n",
              "      <td>Perambalur</td>\n",
              "      <td>2017-06-12</td>\n",
              "      <td>West</td>\n",
              "      <td>2360</td>\n",
              "      <td>0.21</td>\n",
              "      <td>165.20</td>\n",
              "      <td>Tamil Nadu</td>\n",
              "      <td>2017</td>\n",
              "    </tr>\n",
              "    <tr>\n",
              "      <th>3</th>\n",
              "      <td>OD4</td>\n",
              "      <td>Jackson</td>\n",
              "      <td>Fruits &amp; Veggies</td>\n",
              "      <td>Fresh Vegetables</td>\n",
              "      <td>Dharmapuri</td>\n",
              "      <td>2016-10-11</td>\n",
              "      <td>South</td>\n",
              "      <td>896</td>\n",
              "      <td>0.25</td>\n",
              "      <td>89.60</td>\n",
              "      <td>Tamil Nadu</td>\n",
              "      <td>2016</td>\n",
              "    </tr>\n",
              "    <tr>\n",
              "      <th>4</th>\n",
              "      <td>OD5</td>\n",
              "      <td>Ridhesh</td>\n",
              "      <td>Food Grains</td>\n",
              "      <td>Organic Staples</td>\n",
              "      <td>Ooty</td>\n",
              "      <td>2016-10-11</td>\n",
              "      <td>South</td>\n",
              "      <td>2355</td>\n",
              "      <td>0.26</td>\n",
              "      <td>918.45</td>\n",
              "      <td>Tamil Nadu</td>\n",
              "      <td>2016</td>\n",
              "    </tr>\n",
              "    <tr>\n",
              "      <th>...</th>\n",
              "      <td>...</td>\n",
              "      <td>...</td>\n",
              "      <td>...</td>\n",
              "      <td>...</td>\n",
              "      <td>...</td>\n",
              "      <td>...</td>\n",
              "      <td>...</td>\n",
              "      <td>...</td>\n",
              "      <td>...</td>\n",
              "      <td>...</td>\n",
              "      <td>...</td>\n",
              "      <td>...</td>\n",
              "    </tr>\n",
              "    <tr>\n",
              "      <th>9989</th>\n",
              "      <td>OD9990</td>\n",
              "      <td>Sudeep</td>\n",
              "      <td>Eggs, Meat &amp; Fish</td>\n",
              "      <td>Eggs</td>\n",
              "      <td>Madurai</td>\n",
              "      <td>2015-12-24</td>\n",
              "      <td>West</td>\n",
              "      <td>945</td>\n",
              "      <td>0.16</td>\n",
              "      <td>359.10</td>\n",
              "      <td>Tamil Nadu</td>\n",
              "      <td>2015</td>\n",
              "    </tr>\n",
              "    <tr>\n",
              "      <th>9990</th>\n",
              "      <td>OD9991</td>\n",
              "      <td>Alan</td>\n",
              "      <td>Bakery</td>\n",
              "      <td>Biscuits</td>\n",
              "      <td>Kanyakumari</td>\n",
              "      <td>2015-07-12</td>\n",
              "      <td>West</td>\n",
              "      <td>1195</td>\n",
              "      <td>0.26</td>\n",
              "      <td>71.70</td>\n",
              "      <td>Tamil Nadu</td>\n",
              "      <td>2015</td>\n",
              "    </tr>\n",
              "    <tr>\n",
              "      <th>9991</th>\n",
              "      <td>OD9992</td>\n",
              "      <td>Ravi</td>\n",
              "      <td>Food Grains</td>\n",
              "      <td>Rice</td>\n",
              "      <td>Bodi</td>\n",
              "      <td>2017-06-06</td>\n",
              "      <td>West</td>\n",
              "      <td>1567</td>\n",
              "      <td>0.16</td>\n",
              "      <td>501.44</td>\n",
              "      <td>Tamil Nadu</td>\n",
              "      <td>2017</td>\n",
              "    </tr>\n",
              "    <tr>\n",
              "      <th>9992</th>\n",
              "      <td>OD9993</td>\n",
              "      <td>Peer</td>\n",
              "      <td>Oil &amp; Masala</td>\n",
              "      <td>Spices</td>\n",
              "      <td>Pudukottai</td>\n",
              "      <td>2018-10-16</td>\n",
              "      <td>West</td>\n",
              "      <td>1659</td>\n",
              "      <td>0.15</td>\n",
              "      <td>597.24</td>\n",
              "      <td>Tamil Nadu</td>\n",
              "      <td>2018</td>\n",
              "    </tr>\n",
              "    <tr>\n",
              "      <th>9993</th>\n",
              "      <td>OD9994</td>\n",
              "      <td>Ganesh</td>\n",
              "      <td>Food Grains</td>\n",
              "      <td>Atta &amp; Flour</td>\n",
              "      <td>Tirunelveli</td>\n",
              "      <td>2018-04-17</td>\n",
              "      <td>West</td>\n",
              "      <td>1034</td>\n",
              "      <td>0.28</td>\n",
              "      <td>165.44</td>\n",
              "      <td>Tamil Nadu</td>\n",
              "      <td>2018</td>\n",
              "    </tr>\n",
              "  </tbody>\n",
              "</table>\n",
              "<p>9994 rows × 12 columns</p>\n",
              "</div>\n",
              "      <button class=\"colab-df-convert\" onclick=\"convertToInteractive('df-be85c835-2349-4f64-ac24-545f2a37d7bd')\"\n",
              "              title=\"Convert this dataframe to an interactive table.\"\n",
              "              style=\"display:none;\">\n",
              "\n",
              "  <svg xmlns=\"http://www.w3.org/2000/svg\" height=\"24px\"viewBox=\"0 0 24 24\"\n",
              "       width=\"24px\">\n",
              "    <path d=\"M0 0h24v24H0V0z\" fill=\"none\"/>\n",
              "    <path d=\"M18.56 5.44l.94 2.06.94-2.06 2.06-.94-2.06-.94-.94-2.06-.94 2.06-2.06.94zm-11 1L8.5 8.5l.94-2.06 2.06-.94-2.06-.94L8.5 2.5l-.94 2.06-2.06.94zm10 10l.94 2.06.94-2.06 2.06-.94-2.06-.94-.94-2.06-.94 2.06-2.06.94z\"/><path d=\"M17.41 7.96l-1.37-1.37c-.4-.4-.92-.59-1.43-.59-.52 0-1.04.2-1.43.59L10.3 9.45l-7.72 7.72c-.78.78-.78 2.05 0 2.83L4 21.41c.39.39.9.59 1.41.59.51 0 1.02-.2 1.41-.59l7.78-7.78 2.81-2.81c.8-.78.8-2.07 0-2.86zM5.41 20L4 18.59l7.72-7.72 1.47 1.35L5.41 20z\"/>\n",
              "  </svg>\n",
              "      </button>\n",
              "\n",
              "\n",
              "\n",
              "    <div id=\"df-35b01d85-eb45-43db-97f2-696b555e138a\">\n",
              "      <button class=\"colab-df-quickchart\" onclick=\"quickchart('df-35b01d85-eb45-43db-97f2-696b555e138a')\"\n",
              "              title=\"Suggest charts.\"\n",
              "              style=\"display:none;\">\n",
              "\n",
              "<svg xmlns=\"http://www.w3.org/2000/svg\" height=\"24px\"viewBox=\"0 0 24 24\"\n",
              "     width=\"24px\">\n",
              "    <g>\n",
              "        <path d=\"M19 3H5c-1.1 0-2 .9-2 2v14c0 1.1.9 2 2 2h14c1.1 0 2-.9 2-2V5c0-1.1-.9-2-2-2zM9 17H7v-7h2v7zm4 0h-2V7h2v10zm4 0h-2v-4h2v4z\"/>\n",
              "    </g>\n",
              "</svg>\n",
              "      </button>\n",
              "    </div>\n",
              "\n",
              "<style>\n",
              "  .colab-df-quickchart {\n",
              "    background-color: #E8F0FE;\n",
              "    border: none;\n",
              "    border-radius: 50%;\n",
              "    cursor: pointer;\n",
              "    display: none;\n",
              "    fill: #1967D2;\n",
              "    height: 32px;\n",
              "    padding: 0 0 0 0;\n",
              "    width: 32px;\n",
              "  }\n",
              "\n",
              "  .colab-df-quickchart:hover {\n",
              "    background-color: #E2EBFA;\n",
              "    box-shadow: 0px 1px 2px rgba(60, 64, 67, 0.3), 0px 1px 3px 1px rgba(60, 64, 67, 0.15);\n",
              "    fill: #174EA6;\n",
              "  }\n",
              "\n",
              "  [theme=dark] .colab-df-quickchart {\n",
              "    background-color: #3B4455;\n",
              "    fill: #D2E3FC;\n",
              "  }\n",
              "\n",
              "  [theme=dark] .colab-df-quickchart:hover {\n",
              "    background-color: #434B5C;\n",
              "    box-shadow: 0px 1px 3px 1px rgba(0, 0, 0, 0.15);\n",
              "    filter: drop-shadow(0px 1px 2px rgba(0, 0, 0, 0.3));\n",
              "    fill: #FFFFFF;\n",
              "  }\n",
              "</style>\n",
              "\n",
              "    <script>\n",
              "      async function quickchart(key) {\n",
              "        const containerElement = document.querySelector('#' + key);\n",
              "        const charts = await google.colab.kernel.invokeFunction(\n",
              "            'suggestCharts', [key], {});\n",
              "      }\n",
              "    </script>\n",
              "\n",
              "      <script>\n",
              "\n",
              "function displayQuickchartButton(domScope) {\n",
              "  let quickchartButtonEl =\n",
              "    domScope.querySelector('#df-35b01d85-eb45-43db-97f2-696b555e138a button.colab-df-quickchart');\n",
              "  quickchartButtonEl.style.display =\n",
              "    google.colab.kernel.accessAllowed ? 'block' : 'none';\n",
              "}\n",
              "\n",
              "        displayQuickchartButton(document);\n",
              "      </script>\n",
              "      <style>\n",
              "    .colab-df-container {\n",
              "      display:flex;\n",
              "      flex-wrap:wrap;\n",
              "      gap: 12px;\n",
              "    }\n",
              "\n",
              "    .colab-df-convert {\n",
              "      background-color: #E8F0FE;\n",
              "      border: none;\n",
              "      border-radius: 50%;\n",
              "      cursor: pointer;\n",
              "      display: none;\n",
              "      fill: #1967D2;\n",
              "      height: 32px;\n",
              "      padding: 0 0 0 0;\n",
              "      width: 32px;\n",
              "    }\n",
              "\n",
              "    .colab-df-convert:hover {\n",
              "      background-color: #E2EBFA;\n",
              "      box-shadow: 0px 1px 2px rgba(60, 64, 67, 0.3), 0px 1px 3px 1px rgba(60, 64, 67, 0.15);\n",
              "      fill: #174EA6;\n",
              "    }\n",
              "\n",
              "    [theme=dark] .colab-df-convert {\n",
              "      background-color: #3B4455;\n",
              "      fill: #D2E3FC;\n",
              "    }\n",
              "\n",
              "    [theme=dark] .colab-df-convert:hover {\n",
              "      background-color: #434B5C;\n",
              "      box-shadow: 0px 1px 3px 1px rgba(0, 0, 0, 0.15);\n",
              "      filter: drop-shadow(0px 1px 2px rgba(0, 0, 0, 0.3));\n",
              "      fill: #FFFFFF;\n",
              "    }\n",
              "  </style>\n",
              "\n",
              "      <script>\n",
              "        const buttonEl =\n",
              "          document.querySelector('#df-be85c835-2349-4f64-ac24-545f2a37d7bd button.colab-df-convert');\n",
              "        buttonEl.style.display =\n",
              "          google.colab.kernel.accessAllowed ? 'block' : 'none';\n",
              "\n",
              "        async function convertToInteractive(key) {\n",
              "          const element = document.querySelector('#df-be85c835-2349-4f64-ac24-545f2a37d7bd');\n",
              "          const dataTable =\n",
              "            await google.colab.kernel.invokeFunction('convertToInteractive',\n",
              "                                                     [key], {});\n",
              "          if (!dataTable) return;\n",
              "\n",
              "          const docLinkHtml = 'Like what you see? Visit the ' +\n",
              "            '<a target=\"_blank\" href=https://colab.research.google.com/notebooks/data_table.ipynb>data table notebook</a>'\n",
              "            + ' to learn more about interactive tables.';\n",
              "          element.innerHTML = '';\n",
              "          dataTable['output_type'] = 'display_data';\n",
              "          await google.colab.output.renderOutput(dataTable, element);\n",
              "          const docLink = document.createElement('div');\n",
              "          docLink.innerHTML = docLinkHtml;\n",
              "          element.appendChild(docLink);\n",
              "        }\n",
              "      </script>\n",
              "    </div>\n",
              "  </div>\n"
            ]
          },
          "metadata": {},
          "execution_count": 552
        }
      ]
    },
    {
      "cell_type": "markdown",
      "source": [
        "Add the Month column to the dataframe"
      ],
      "metadata": {
        "id": "9Aco5SepH-de"
      }
    },
    {
      "cell_type": "code",
      "source": [
        "# dataframe with month column\n",
        "\n",
        "# convert the Order Date to datetime\n",
        "df['Order Date'] = pd.to_datetime(df['Order Date'])\n",
        "# add a column for Year\n",
        "df['Month'] = df['Order Date'].dt.month\n",
        "\n",
        "# print the dataframe\n",
        "df.head(150)"
      ],
      "metadata": {
        "colab": {
          "base_uri": "https://localhost:8080/",
          "height": 423
        },
        "id": "xrvRwQLRIDXA",
        "outputId": "2581658c-25e7-4038-8b5d-c6d603bfb760"
      },
      "execution_count": 553,
      "outputs": [
        {
          "output_type": "execute_result",
          "data": {
            "text/plain": [
              "    Order ID Customer Name           Category       Sub Category         City  \\\n",
              "0        OD1        Harish       Oil & Masala            Masalas      Vellore   \n",
              "1        OD2         Sudha          Beverages      Health Drinks  Krishnagiri   \n",
              "2        OD3       Hussain        Food Grains       Atta & Flour   Perambalur   \n",
              "3        OD4       Jackson   Fruits & Veggies   Fresh Vegetables   Dharmapuri   \n",
              "4        OD5       Ridhesh        Food Grains    Organic Staples         Ooty   \n",
              "..       ...           ...                ...                ...          ...   \n",
              "145    OD146         Malik       Oil & Masala  Edible Oil & Ghee   Coimbatore   \n",
              "146    OD147       Ridhesh        Food Grains    Organic Staples        Theni   \n",
              "147    OD148        Harish   Fruits & Veggies   Fresh Vegetables  Tirunelveli   \n",
              "148    OD149      Veronica          Beverages      Health Drinks      Tenkasi   \n",
              "149    OD150          Ravi  Eggs, Meat & Fish               Fish      Vellore   \n",
              "\n",
              "    Order Date   Region  Sales  Discount  Profit       State  Year  Month  \n",
              "0   2017-11-08    North   1254      0.12  401.28  Tamil Nadu  2017     11  \n",
              "1   2017-11-08    South    749      0.18  149.80  Tamil Nadu  2017     11  \n",
              "2   2017-06-12     West   2360      0.21  165.20  Tamil Nadu  2017      6  \n",
              "3   2016-10-11    South    896      0.25   89.60  Tamil Nadu  2016     10  \n",
              "4   2016-10-11    South   2355      0.26  918.45  Tamil Nadu  2016     10  \n",
              "..         ...      ...    ...       ...     ...         ...   ...    ...  \n",
              "145 2016-09-07     West   1551      0.13  573.87  Tamil Nadu  2016      9  \n",
              "146 2015-10-22     East   1564      0.27  187.68  Tamil Nadu  2015     10  \n",
              "147 2017-12-05  Central   1125      0.33  292.50  Tamil Nadu  2017     12  \n",
              "148 2017-12-05  Central    768      0.10  184.32  Tamil Nadu  2017     12  \n",
              "149 2017-12-05  Central   1985      0.26  734.45  Tamil Nadu  2017     12  \n",
              "\n",
              "[150 rows x 13 columns]"
            ],
            "text/html": [
              "\n",
              "\n",
              "  <div id=\"df-00d10b65-b417-43a5-8739-610474589923\">\n",
              "    <div class=\"colab-df-container\">\n",
              "      <div>\n",
              "<style scoped>\n",
              "    .dataframe tbody tr th:only-of-type {\n",
              "        vertical-align: middle;\n",
              "    }\n",
              "\n",
              "    .dataframe tbody tr th {\n",
              "        vertical-align: top;\n",
              "    }\n",
              "\n",
              "    .dataframe thead th {\n",
              "        text-align: right;\n",
              "    }\n",
              "</style>\n",
              "<table border=\"1\" class=\"dataframe\">\n",
              "  <thead>\n",
              "    <tr style=\"text-align: right;\">\n",
              "      <th></th>\n",
              "      <th>Order ID</th>\n",
              "      <th>Customer Name</th>\n",
              "      <th>Category</th>\n",
              "      <th>Sub Category</th>\n",
              "      <th>City</th>\n",
              "      <th>Order Date</th>\n",
              "      <th>Region</th>\n",
              "      <th>Sales</th>\n",
              "      <th>Discount</th>\n",
              "      <th>Profit</th>\n",
              "      <th>State</th>\n",
              "      <th>Year</th>\n",
              "      <th>Month</th>\n",
              "    </tr>\n",
              "  </thead>\n",
              "  <tbody>\n",
              "    <tr>\n",
              "      <th>0</th>\n",
              "      <td>OD1</td>\n",
              "      <td>Harish</td>\n",
              "      <td>Oil &amp; Masala</td>\n",
              "      <td>Masalas</td>\n",
              "      <td>Vellore</td>\n",
              "      <td>2017-11-08</td>\n",
              "      <td>North</td>\n",
              "      <td>1254</td>\n",
              "      <td>0.12</td>\n",
              "      <td>401.28</td>\n",
              "      <td>Tamil Nadu</td>\n",
              "      <td>2017</td>\n",
              "      <td>11</td>\n",
              "    </tr>\n",
              "    <tr>\n",
              "      <th>1</th>\n",
              "      <td>OD2</td>\n",
              "      <td>Sudha</td>\n",
              "      <td>Beverages</td>\n",
              "      <td>Health Drinks</td>\n",
              "      <td>Krishnagiri</td>\n",
              "      <td>2017-11-08</td>\n",
              "      <td>South</td>\n",
              "      <td>749</td>\n",
              "      <td>0.18</td>\n",
              "      <td>149.80</td>\n",
              "      <td>Tamil Nadu</td>\n",
              "      <td>2017</td>\n",
              "      <td>11</td>\n",
              "    </tr>\n",
              "    <tr>\n",
              "      <th>2</th>\n",
              "      <td>OD3</td>\n",
              "      <td>Hussain</td>\n",
              "      <td>Food Grains</td>\n",
              "      <td>Atta &amp; Flour</td>\n",
              "      <td>Perambalur</td>\n",
              "      <td>2017-06-12</td>\n",
              "      <td>West</td>\n",
              "      <td>2360</td>\n",
              "      <td>0.21</td>\n",
              "      <td>165.20</td>\n",
              "      <td>Tamil Nadu</td>\n",
              "      <td>2017</td>\n",
              "      <td>6</td>\n",
              "    </tr>\n",
              "    <tr>\n",
              "      <th>3</th>\n",
              "      <td>OD4</td>\n",
              "      <td>Jackson</td>\n",
              "      <td>Fruits &amp; Veggies</td>\n",
              "      <td>Fresh Vegetables</td>\n",
              "      <td>Dharmapuri</td>\n",
              "      <td>2016-10-11</td>\n",
              "      <td>South</td>\n",
              "      <td>896</td>\n",
              "      <td>0.25</td>\n",
              "      <td>89.60</td>\n",
              "      <td>Tamil Nadu</td>\n",
              "      <td>2016</td>\n",
              "      <td>10</td>\n",
              "    </tr>\n",
              "    <tr>\n",
              "      <th>4</th>\n",
              "      <td>OD5</td>\n",
              "      <td>Ridhesh</td>\n",
              "      <td>Food Grains</td>\n",
              "      <td>Organic Staples</td>\n",
              "      <td>Ooty</td>\n",
              "      <td>2016-10-11</td>\n",
              "      <td>South</td>\n",
              "      <td>2355</td>\n",
              "      <td>0.26</td>\n",
              "      <td>918.45</td>\n",
              "      <td>Tamil Nadu</td>\n",
              "      <td>2016</td>\n",
              "      <td>10</td>\n",
              "    </tr>\n",
              "    <tr>\n",
              "      <th>...</th>\n",
              "      <td>...</td>\n",
              "      <td>...</td>\n",
              "      <td>...</td>\n",
              "      <td>...</td>\n",
              "      <td>...</td>\n",
              "      <td>...</td>\n",
              "      <td>...</td>\n",
              "      <td>...</td>\n",
              "      <td>...</td>\n",
              "      <td>...</td>\n",
              "      <td>...</td>\n",
              "      <td>...</td>\n",
              "      <td>...</td>\n",
              "    </tr>\n",
              "    <tr>\n",
              "      <th>145</th>\n",
              "      <td>OD146</td>\n",
              "      <td>Malik</td>\n",
              "      <td>Oil &amp; Masala</td>\n",
              "      <td>Edible Oil &amp; Ghee</td>\n",
              "      <td>Coimbatore</td>\n",
              "      <td>2016-09-07</td>\n",
              "      <td>West</td>\n",
              "      <td>1551</td>\n",
              "      <td>0.13</td>\n",
              "      <td>573.87</td>\n",
              "      <td>Tamil Nadu</td>\n",
              "      <td>2016</td>\n",
              "      <td>9</td>\n",
              "    </tr>\n",
              "    <tr>\n",
              "      <th>146</th>\n",
              "      <td>OD147</td>\n",
              "      <td>Ridhesh</td>\n",
              "      <td>Food Grains</td>\n",
              "      <td>Organic Staples</td>\n",
              "      <td>Theni</td>\n",
              "      <td>2015-10-22</td>\n",
              "      <td>East</td>\n",
              "      <td>1564</td>\n",
              "      <td>0.27</td>\n",
              "      <td>187.68</td>\n",
              "      <td>Tamil Nadu</td>\n",
              "      <td>2015</td>\n",
              "      <td>10</td>\n",
              "    </tr>\n",
              "    <tr>\n",
              "      <th>147</th>\n",
              "      <td>OD148</td>\n",
              "      <td>Harish</td>\n",
              "      <td>Fruits &amp; Veggies</td>\n",
              "      <td>Fresh Vegetables</td>\n",
              "      <td>Tirunelveli</td>\n",
              "      <td>2017-12-05</td>\n",
              "      <td>Central</td>\n",
              "      <td>1125</td>\n",
              "      <td>0.33</td>\n",
              "      <td>292.50</td>\n",
              "      <td>Tamil Nadu</td>\n",
              "      <td>2017</td>\n",
              "      <td>12</td>\n",
              "    </tr>\n",
              "    <tr>\n",
              "      <th>148</th>\n",
              "      <td>OD149</td>\n",
              "      <td>Veronica</td>\n",
              "      <td>Beverages</td>\n",
              "      <td>Health Drinks</td>\n",
              "      <td>Tenkasi</td>\n",
              "      <td>2017-12-05</td>\n",
              "      <td>Central</td>\n",
              "      <td>768</td>\n",
              "      <td>0.10</td>\n",
              "      <td>184.32</td>\n",
              "      <td>Tamil Nadu</td>\n",
              "      <td>2017</td>\n",
              "      <td>12</td>\n",
              "    </tr>\n",
              "    <tr>\n",
              "      <th>149</th>\n",
              "      <td>OD150</td>\n",
              "      <td>Ravi</td>\n",
              "      <td>Eggs, Meat &amp; Fish</td>\n",
              "      <td>Fish</td>\n",
              "      <td>Vellore</td>\n",
              "      <td>2017-12-05</td>\n",
              "      <td>Central</td>\n",
              "      <td>1985</td>\n",
              "      <td>0.26</td>\n",
              "      <td>734.45</td>\n",
              "      <td>Tamil Nadu</td>\n",
              "      <td>2017</td>\n",
              "      <td>12</td>\n",
              "    </tr>\n",
              "  </tbody>\n",
              "</table>\n",
              "<p>150 rows × 13 columns</p>\n",
              "</div>\n",
              "      <button class=\"colab-df-convert\" onclick=\"convertToInteractive('df-00d10b65-b417-43a5-8739-610474589923')\"\n",
              "              title=\"Convert this dataframe to an interactive table.\"\n",
              "              style=\"display:none;\">\n",
              "\n",
              "  <svg xmlns=\"http://www.w3.org/2000/svg\" height=\"24px\"viewBox=\"0 0 24 24\"\n",
              "       width=\"24px\">\n",
              "    <path d=\"M0 0h24v24H0V0z\" fill=\"none\"/>\n",
              "    <path d=\"M18.56 5.44l.94 2.06.94-2.06 2.06-.94-2.06-.94-.94-2.06-.94 2.06-2.06.94zm-11 1L8.5 8.5l.94-2.06 2.06-.94-2.06-.94L8.5 2.5l-.94 2.06-2.06.94zm10 10l.94 2.06.94-2.06 2.06-.94-2.06-.94-.94-2.06-.94 2.06-2.06.94z\"/><path d=\"M17.41 7.96l-1.37-1.37c-.4-.4-.92-.59-1.43-.59-.52 0-1.04.2-1.43.59L10.3 9.45l-7.72 7.72c-.78.78-.78 2.05 0 2.83L4 21.41c.39.39.9.59 1.41.59.51 0 1.02-.2 1.41-.59l7.78-7.78 2.81-2.81c.8-.78.8-2.07 0-2.86zM5.41 20L4 18.59l7.72-7.72 1.47 1.35L5.41 20z\"/>\n",
              "  </svg>\n",
              "      </button>\n",
              "\n",
              "\n",
              "\n",
              "    <div id=\"df-8187a162-fdf2-48a9-ae49-3c87148fa2a4\">\n",
              "      <button class=\"colab-df-quickchart\" onclick=\"quickchart('df-8187a162-fdf2-48a9-ae49-3c87148fa2a4')\"\n",
              "              title=\"Suggest charts.\"\n",
              "              style=\"display:none;\">\n",
              "\n",
              "<svg xmlns=\"http://www.w3.org/2000/svg\" height=\"24px\"viewBox=\"0 0 24 24\"\n",
              "     width=\"24px\">\n",
              "    <g>\n",
              "        <path d=\"M19 3H5c-1.1 0-2 .9-2 2v14c0 1.1.9 2 2 2h14c1.1 0 2-.9 2-2V5c0-1.1-.9-2-2-2zM9 17H7v-7h2v7zm4 0h-2V7h2v10zm4 0h-2v-4h2v4z\"/>\n",
              "    </g>\n",
              "</svg>\n",
              "      </button>\n",
              "    </div>\n",
              "\n",
              "<style>\n",
              "  .colab-df-quickchart {\n",
              "    background-color: #E8F0FE;\n",
              "    border: none;\n",
              "    border-radius: 50%;\n",
              "    cursor: pointer;\n",
              "    display: none;\n",
              "    fill: #1967D2;\n",
              "    height: 32px;\n",
              "    padding: 0 0 0 0;\n",
              "    width: 32px;\n",
              "  }\n",
              "\n",
              "  .colab-df-quickchart:hover {\n",
              "    background-color: #E2EBFA;\n",
              "    box-shadow: 0px 1px 2px rgba(60, 64, 67, 0.3), 0px 1px 3px 1px rgba(60, 64, 67, 0.15);\n",
              "    fill: #174EA6;\n",
              "  }\n",
              "\n",
              "  [theme=dark] .colab-df-quickchart {\n",
              "    background-color: #3B4455;\n",
              "    fill: #D2E3FC;\n",
              "  }\n",
              "\n",
              "  [theme=dark] .colab-df-quickchart:hover {\n",
              "    background-color: #434B5C;\n",
              "    box-shadow: 0px 1px 3px 1px rgba(0, 0, 0, 0.15);\n",
              "    filter: drop-shadow(0px 1px 2px rgba(0, 0, 0, 0.3));\n",
              "    fill: #FFFFFF;\n",
              "  }\n",
              "</style>\n",
              "\n",
              "    <script>\n",
              "      async function quickchart(key) {\n",
              "        const containerElement = document.querySelector('#' + key);\n",
              "        const charts = await google.colab.kernel.invokeFunction(\n",
              "            'suggestCharts', [key], {});\n",
              "      }\n",
              "    </script>\n",
              "\n",
              "      <script>\n",
              "\n",
              "function displayQuickchartButton(domScope) {\n",
              "  let quickchartButtonEl =\n",
              "    domScope.querySelector('#df-8187a162-fdf2-48a9-ae49-3c87148fa2a4 button.colab-df-quickchart');\n",
              "  quickchartButtonEl.style.display =\n",
              "    google.colab.kernel.accessAllowed ? 'block' : 'none';\n",
              "}\n",
              "\n",
              "        displayQuickchartButton(document);\n",
              "      </script>\n",
              "      <style>\n",
              "    .colab-df-container {\n",
              "      display:flex;\n",
              "      flex-wrap:wrap;\n",
              "      gap: 12px;\n",
              "    }\n",
              "\n",
              "    .colab-df-convert {\n",
              "      background-color: #E8F0FE;\n",
              "      border: none;\n",
              "      border-radius: 50%;\n",
              "      cursor: pointer;\n",
              "      display: none;\n",
              "      fill: #1967D2;\n",
              "      height: 32px;\n",
              "      padding: 0 0 0 0;\n",
              "      width: 32px;\n",
              "    }\n",
              "\n",
              "    .colab-df-convert:hover {\n",
              "      background-color: #E2EBFA;\n",
              "      box-shadow: 0px 1px 2px rgba(60, 64, 67, 0.3), 0px 1px 3px 1px rgba(60, 64, 67, 0.15);\n",
              "      fill: #174EA6;\n",
              "    }\n",
              "\n",
              "    [theme=dark] .colab-df-convert {\n",
              "      background-color: #3B4455;\n",
              "      fill: #D2E3FC;\n",
              "    }\n",
              "\n",
              "    [theme=dark] .colab-df-convert:hover {\n",
              "      background-color: #434B5C;\n",
              "      box-shadow: 0px 1px 3px 1px rgba(0, 0, 0, 0.15);\n",
              "      filter: drop-shadow(0px 1px 2px rgba(0, 0, 0, 0.3));\n",
              "      fill: #FFFFFF;\n",
              "    }\n",
              "  </style>\n",
              "\n",
              "      <script>\n",
              "        const buttonEl =\n",
              "          document.querySelector('#df-00d10b65-b417-43a5-8739-610474589923 button.colab-df-convert');\n",
              "        buttonEl.style.display =\n",
              "          google.colab.kernel.accessAllowed ? 'block' : 'none';\n",
              "\n",
              "        async function convertToInteractive(key) {\n",
              "          const element = document.querySelector('#df-00d10b65-b417-43a5-8739-610474589923');\n",
              "          const dataTable =\n",
              "            await google.colab.kernel.invokeFunction('convertToInteractive',\n",
              "                                                     [key], {});\n",
              "          if (!dataTable) return;\n",
              "\n",
              "          const docLinkHtml = 'Like what you see? Visit the ' +\n",
              "            '<a target=\"_blank\" href=https://colab.research.google.com/notebooks/data_table.ipynb>data table notebook</a>'\n",
              "            + ' to learn more about interactive tables.';\n",
              "          element.innerHTML = '';\n",
              "          dataTable['output_type'] = 'display_data';\n",
              "          await google.colab.output.renderOutput(dataTable, element);\n",
              "          const docLink = document.createElement('div');\n",
              "          docLink.innerHTML = docLinkHtml;\n",
              "          element.appendChild(docLink);\n",
              "        }\n",
              "      </script>\n",
              "    </div>\n",
              "  </div>\n"
            ]
          },
          "metadata": {},
          "execution_count": 553
        }
      ]
    },
    {
      "cell_type": "markdown",
      "source": [
        "##Add the Month_Year column to the dataframe\n",
        "\n",
        "The month year column, will have the exact month when an order was purchased , and the year in which the product was purchased, it will be used in assessing the business on a montly basis."
      ],
      "metadata": {
        "id": "mEtcGjEtnSw_"
      }
    },
    {
      "cell_type": "code",
      "source": [
        "# dataframe with monthYear column\n",
        "\n",
        "# convert the Order Date to datetime\n",
        "df['Order Date'] = pd.to_datetime(df['Order Date'])\n",
        "\n",
        "# Use datetime.to_period() method to extract month and year\n",
        "# df['Month_Year'] = df['Order Date'].dt.to_period('M')\n",
        "\n",
        "\n",
        "# Use DataFrame.apply() with lambda function and strftime()\n",
        "df['Month_Year'] = df['Order Date'].apply(lambda x: x.strftime('%B-%Y'))\n",
        "# print(df)\n",
        "\n",
        "df\n"
      ],
      "metadata": {
        "colab": {
          "base_uri": "https://localhost:8080/",
          "height": 423
        },
        "id": "73dEYftbnWht",
        "outputId": "8a976431-49e3-4deb-ae06-643e605cbb92"
      },
      "execution_count": 554,
      "outputs": [
        {
          "output_type": "execute_result",
          "data": {
            "text/plain": [
              "     Order ID Customer Name           Category      Sub Category         City  \\\n",
              "0         OD1        Harish       Oil & Masala           Masalas      Vellore   \n",
              "1         OD2         Sudha          Beverages     Health Drinks  Krishnagiri   \n",
              "2         OD3       Hussain        Food Grains      Atta & Flour   Perambalur   \n",
              "3         OD4       Jackson   Fruits & Veggies  Fresh Vegetables   Dharmapuri   \n",
              "4         OD5       Ridhesh        Food Grains   Organic Staples         Ooty   \n",
              "...       ...           ...                ...               ...          ...   \n",
              "9989   OD9990        Sudeep  Eggs, Meat & Fish              Eggs      Madurai   \n",
              "9990   OD9991          Alan             Bakery          Biscuits  Kanyakumari   \n",
              "9991   OD9992          Ravi        Food Grains              Rice         Bodi   \n",
              "9992   OD9993          Peer       Oil & Masala            Spices   Pudukottai   \n",
              "9993   OD9994        Ganesh        Food Grains      Atta & Flour  Tirunelveli   \n",
              "\n",
              "     Order Date Region  Sales  Discount  Profit       State  Year  Month  \\\n",
              "0    2017-11-08  North   1254      0.12  401.28  Tamil Nadu  2017     11   \n",
              "1    2017-11-08  South    749      0.18  149.80  Tamil Nadu  2017     11   \n",
              "2    2017-06-12   West   2360      0.21  165.20  Tamil Nadu  2017      6   \n",
              "3    2016-10-11  South    896      0.25   89.60  Tamil Nadu  2016     10   \n",
              "4    2016-10-11  South   2355      0.26  918.45  Tamil Nadu  2016     10   \n",
              "...         ...    ...    ...       ...     ...         ...   ...    ...   \n",
              "9989 2015-12-24   West    945      0.16  359.10  Tamil Nadu  2015     12   \n",
              "9990 2015-07-12   West   1195      0.26   71.70  Tamil Nadu  2015      7   \n",
              "9991 2017-06-06   West   1567      0.16  501.44  Tamil Nadu  2017      6   \n",
              "9992 2018-10-16   West   1659      0.15  597.24  Tamil Nadu  2018     10   \n",
              "9993 2018-04-17   West   1034      0.28  165.44  Tamil Nadu  2018      4   \n",
              "\n",
              "         Month_Year  \n",
              "0     November-2017  \n",
              "1     November-2017  \n",
              "2         June-2017  \n",
              "3      October-2016  \n",
              "4      October-2016  \n",
              "...             ...  \n",
              "9989  December-2015  \n",
              "9990      July-2015  \n",
              "9991      June-2017  \n",
              "9992   October-2018  \n",
              "9993     April-2018  \n",
              "\n",
              "[9994 rows x 14 columns]"
            ],
            "text/html": [
              "\n",
              "\n",
              "  <div id=\"df-8c8e7fe9-8765-4eea-a0fa-4434ee7baf95\">\n",
              "    <div class=\"colab-df-container\">\n",
              "      <div>\n",
              "<style scoped>\n",
              "    .dataframe tbody tr th:only-of-type {\n",
              "        vertical-align: middle;\n",
              "    }\n",
              "\n",
              "    .dataframe tbody tr th {\n",
              "        vertical-align: top;\n",
              "    }\n",
              "\n",
              "    .dataframe thead th {\n",
              "        text-align: right;\n",
              "    }\n",
              "</style>\n",
              "<table border=\"1\" class=\"dataframe\">\n",
              "  <thead>\n",
              "    <tr style=\"text-align: right;\">\n",
              "      <th></th>\n",
              "      <th>Order ID</th>\n",
              "      <th>Customer Name</th>\n",
              "      <th>Category</th>\n",
              "      <th>Sub Category</th>\n",
              "      <th>City</th>\n",
              "      <th>Order Date</th>\n",
              "      <th>Region</th>\n",
              "      <th>Sales</th>\n",
              "      <th>Discount</th>\n",
              "      <th>Profit</th>\n",
              "      <th>State</th>\n",
              "      <th>Year</th>\n",
              "      <th>Month</th>\n",
              "      <th>Month_Year</th>\n",
              "    </tr>\n",
              "  </thead>\n",
              "  <tbody>\n",
              "    <tr>\n",
              "      <th>0</th>\n",
              "      <td>OD1</td>\n",
              "      <td>Harish</td>\n",
              "      <td>Oil &amp; Masala</td>\n",
              "      <td>Masalas</td>\n",
              "      <td>Vellore</td>\n",
              "      <td>2017-11-08</td>\n",
              "      <td>North</td>\n",
              "      <td>1254</td>\n",
              "      <td>0.12</td>\n",
              "      <td>401.28</td>\n",
              "      <td>Tamil Nadu</td>\n",
              "      <td>2017</td>\n",
              "      <td>11</td>\n",
              "      <td>November-2017</td>\n",
              "    </tr>\n",
              "    <tr>\n",
              "      <th>1</th>\n",
              "      <td>OD2</td>\n",
              "      <td>Sudha</td>\n",
              "      <td>Beverages</td>\n",
              "      <td>Health Drinks</td>\n",
              "      <td>Krishnagiri</td>\n",
              "      <td>2017-11-08</td>\n",
              "      <td>South</td>\n",
              "      <td>749</td>\n",
              "      <td>0.18</td>\n",
              "      <td>149.80</td>\n",
              "      <td>Tamil Nadu</td>\n",
              "      <td>2017</td>\n",
              "      <td>11</td>\n",
              "      <td>November-2017</td>\n",
              "    </tr>\n",
              "    <tr>\n",
              "      <th>2</th>\n",
              "      <td>OD3</td>\n",
              "      <td>Hussain</td>\n",
              "      <td>Food Grains</td>\n",
              "      <td>Atta &amp; Flour</td>\n",
              "      <td>Perambalur</td>\n",
              "      <td>2017-06-12</td>\n",
              "      <td>West</td>\n",
              "      <td>2360</td>\n",
              "      <td>0.21</td>\n",
              "      <td>165.20</td>\n",
              "      <td>Tamil Nadu</td>\n",
              "      <td>2017</td>\n",
              "      <td>6</td>\n",
              "      <td>June-2017</td>\n",
              "    </tr>\n",
              "    <tr>\n",
              "      <th>3</th>\n",
              "      <td>OD4</td>\n",
              "      <td>Jackson</td>\n",
              "      <td>Fruits &amp; Veggies</td>\n",
              "      <td>Fresh Vegetables</td>\n",
              "      <td>Dharmapuri</td>\n",
              "      <td>2016-10-11</td>\n",
              "      <td>South</td>\n",
              "      <td>896</td>\n",
              "      <td>0.25</td>\n",
              "      <td>89.60</td>\n",
              "      <td>Tamil Nadu</td>\n",
              "      <td>2016</td>\n",
              "      <td>10</td>\n",
              "      <td>October-2016</td>\n",
              "    </tr>\n",
              "    <tr>\n",
              "      <th>4</th>\n",
              "      <td>OD5</td>\n",
              "      <td>Ridhesh</td>\n",
              "      <td>Food Grains</td>\n",
              "      <td>Organic Staples</td>\n",
              "      <td>Ooty</td>\n",
              "      <td>2016-10-11</td>\n",
              "      <td>South</td>\n",
              "      <td>2355</td>\n",
              "      <td>0.26</td>\n",
              "      <td>918.45</td>\n",
              "      <td>Tamil Nadu</td>\n",
              "      <td>2016</td>\n",
              "      <td>10</td>\n",
              "      <td>October-2016</td>\n",
              "    </tr>\n",
              "    <tr>\n",
              "      <th>...</th>\n",
              "      <td>...</td>\n",
              "      <td>...</td>\n",
              "      <td>...</td>\n",
              "      <td>...</td>\n",
              "      <td>...</td>\n",
              "      <td>...</td>\n",
              "      <td>...</td>\n",
              "      <td>...</td>\n",
              "      <td>...</td>\n",
              "      <td>...</td>\n",
              "      <td>...</td>\n",
              "      <td>...</td>\n",
              "      <td>...</td>\n",
              "      <td>...</td>\n",
              "    </tr>\n",
              "    <tr>\n",
              "      <th>9989</th>\n",
              "      <td>OD9990</td>\n",
              "      <td>Sudeep</td>\n",
              "      <td>Eggs, Meat &amp; Fish</td>\n",
              "      <td>Eggs</td>\n",
              "      <td>Madurai</td>\n",
              "      <td>2015-12-24</td>\n",
              "      <td>West</td>\n",
              "      <td>945</td>\n",
              "      <td>0.16</td>\n",
              "      <td>359.10</td>\n",
              "      <td>Tamil Nadu</td>\n",
              "      <td>2015</td>\n",
              "      <td>12</td>\n",
              "      <td>December-2015</td>\n",
              "    </tr>\n",
              "    <tr>\n",
              "      <th>9990</th>\n",
              "      <td>OD9991</td>\n",
              "      <td>Alan</td>\n",
              "      <td>Bakery</td>\n",
              "      <td>Biscuits</td>\n",
              "      <td>Kanyakumari</td>\n",
              "      <td>2015-07-12</td>\n",
              "      <td>West</td>\n",
              "      <td>1195</td>\n",
              "      <td>0.26</td>\n",
              "      <td>71.70</td>\n",
              "      <td>Tamil Nadu</td>\n",
              "      <td>2015</td>\n",
              "      <td>7</td>\n",
              "      <td>July-2015</td>\n",
              "    </tr>\n",
              "    <tr>\n",
              "      <th>9991</th>\n",
              "      <td>OD9992</td>\n",
              "      <td>Ravi</td>\n",
              "      <td>Food Grains</td>\n",
              "      <td>Rice</td>\n",
              "      <td>Bodi</td>\n",
              "      <td>2017-06-06</td>\n",
              "      <td>West</td>\n",
              "      <td>1567</td>\n",
              "      <td>0.16</td>\n",
              "      <td>501.44</td>\n",
              "      <td>Tamil Nadu</td>\n",
              "      <td>2017</td>\n",
              "      <td>6</td>\n",
              "      <td>June-2017</td>\n",
              "    </tr>\n",
              "    <tr>\n",
              "      <th>9992</th>\n",
              "      <td>OD9993</td>\n",
              "      <td>Peer</td>\n",
              "      <td>Oil &amp; Masala</td>\n",
              "      <td>Spices</td>\n",
              "      <td>Pudukottai</td>\n",
              "      <td>2018-10-16</td>\n",
              "      <td>West</td>\n",
              "      <td>1659</td>\n",
              "      <td>0.15</td>\n",
              "      <td>597.24</td>\n",
              "      <td>Tamil Nadu</td>\n",
              "      <td>2018</td>\n",
              "      <td>10</td>\n",
              "      <td>October-2018</td>\n",
              "    </tr>\n",
              "    <tr>\n",
              "      <th>9993</th>\n",
              "      <td>OD9994</td>\n",
              "      <td>Ganesh</td>\n",
              "      <td>Food Grains</td>\n",
              "      <td>Atta &amp; Flour</td>\n",
              "      <td>Tirunelveli</td>\n",
              "      <td>2018-04-17</td>\n",
              "      <td>West</td>\n",
              "      <td>1034</td>\n",
              "      <td>0.28</td>\n",
              "      <td>165.44</td>\n",
              "      <td>Tamil Nadu</td>\n",
              "      <td>2018</td>\n",
              "      <td>4</td>\n",
              "      <td>April-2018</td>\n",
              "    </tr>\n",
              "  </tbody>\n",
              "</table>\n",
              "<p>9994 rows × 14 columns</p>\n",
              "</div>\n",
              "      <button class=\"colab-df-convert\" onclick=\"convertToInteractive('df-8c8e7fe9-8765-4eea-a0fa-4434ee7baf95')\"\n",
              "              title=\"Convert this dataframe to an interactive table.\"\n",
              "              style=\"display:none;\">\n",
              "\n",
              "  <svg xmlns=\"http://www.w3.org/2000/svg\" height=\"24px\"viewBox=\"0 0 24 24\"\n",
              "       width=\"24px\">\n",
              "    <path d=\"M0 0h24v24H0V0z\" fill=\"none\"/>\n",
              "    <path d=\"M18.56 5.44l.94 2.06.94-2.06 2.06-.94-2.06-.94-.94-2.06-.94 2.06-2.06.94zm-11 1L8.5 8.5l.94-2.06 2.06-.94-2.06-.94L8.5 2.5l-.94 2.06-2.06.94zm10 10l.94 2.06.94-2.06 2.06-.94-2.06-.94-.94-2.06-.94 2.06-2.06.94z\"/><path d=\"M17.41 7.96l-1.37-1.37c-.4-.4-.92-.59-1.43-.59-.52 0-1.04.2-1.43.59L10.3 9.45l-7.72 7.72c-.78.78-.78 2.05 0 2.83L4 21.41c.39.39.9.59 1.41.59.51 0 1.02-.2 1.41-.59l7.78-7.78 2.81-2.81c.8-.78.8-2.07 0-2.86zM5.41 20L4 18.59l7.72-7.72 1.47 1.35L5.41 20z\"/>\n",
              "  </svg>\n",
              "      </button>\n",
              "\n",
              "\n",
              "\n",
              "    <div id=\"df-a994f7a9-0ebe-4e14-89f2-3c3d0fe4ec9d\">\n",
              "      <button class=\"colab-df-quickchart\" onclick=\"quickchart('df-a994f7a9-0ebe-4e14-89f2-3c3d0fe4ec9d')\"\n",
              "              title=\"Suggest charts.\"\n",
              "              style=\"display:none;\">\n",
              "\n",
              "<svg xmlns=\"http://www.w3.org/2000/svg\" height=\"24px\"viewBox=\"0 0 24 24\"\n",
              "     width=\"24px\">\n",
              "    <g>\n",
              "        <path d=\"M19 3H5c-1.1 0-2 .9-2 2v14c0 1.1.9 2 2 2h14c1.1 0 2-.9 2-2V5c0-1.1-.9-2-2-2zM9 17H7v-7h2v7zm4 0h-2V7h2v10zm4 0h-2v-4h2v4z\"/>\n",
              "    </g>\n",
              "</svg>\n",
              "      </button>\n",
              "    </div>\n",
              "\n",
              "<style>\n",
              "  .colab-df-quickchart {\n",
              "    background-color: #E8F0FE;\n",
              "    border: none;\n",
              "    border-radius: 50%;\n",
              "    cursor: pointer;\n",
              "    display: none;\n",
              "    fill: #1967D2;\n",
              "    height: 32px;\n",
              "    padding: 0 0 0 0;\n",
              "    width: 32px;\n",
              "  }\n",
              "\n",
              "  .colab-df-quickchart:hover {\n",
              "    background-color: #E2EBFA;\n",
              "    box-shadow: 0px 1px 2px rgba(60, 64, 67, 0.3), 0px 1px 3px 1px rgba(60, 64, 67, 0.15);\n",
              "    fill: #174EA6;\n",
              "  }\n",
              "\n",
              "  [theme=dark] .colab-df-quickchart {\n",
              "    background-color: #3B4455;\n",
              "    fill: #D2E3FC;\n",
              "  }\n",
              "\n",
              "  [theme=dark] .colab-df-quickchart:hover {\n",
              "    background-color: #434B5C;\n",
              "    box-shadow: 0px 1px 3px 1px rgba(0, 0, 0, 0.15);\n",
              "    filter: drop-shadow(0px 1px 2px rgba(0, 0, 0, 0.3));\n",
              "    fill: #FFFFFF;\n",
              "  }\n",
              "</style>\n",
              "\n",
              "    <script>\n",
              "      async function quickchart(key) {\n",
              "        const containerElement = document.querySelector('#' + key);\n",
              "        const charts = await google.colab.kernel.invokeFunction(\n",
              "            'suggestCharts', [key], {});\n",
              "      }\n",
              "    </script>\n",
              "\n",
              "      <script>\n",
              "\n",
              "function displayQuickchartButton(domScope) {\n",
              "  let quickchartButtonEl =\n",
              "    domScope.querySelector('#df-a994f7a9-0ebe-4e14-89f2-3c3d0fe4ec9d button.colab-df-quickchart');\n",
              "  quickchartButtonEl.style.display =\n",
              "    google.colab.kernel.accessAllowed ? 'block' : 'none';\n",
              "}\n",
              "\n",
              "        displayQuickchartButton(document);\n",
              "      </script>\n",
              "      <style>\n",
              "    .colab-df-container {\n",
              "      display:flex;\n",
              "      flex-wrap:wrap;\n",
              "      gap: 12px;\n",
              "    }\n",
              "\n",
              "    .colab-df-convert {\n",
              "      background-color: #E8F0FE;\n",
              "      border: none;\n",
              "      border-radius: 50%;\n",
              "      cursor: pointer;\n",
              "      display: none;\n",
              "      fill: #1967D2;\n",
              "      height: 32px;\n",
              "      padding: 0 0 0 0;\n",
              "      width: 32px;\n",
              "    }\n",
              "\n",
              "    .colab-df-convert:hover {\n",
              "      background-color: #E2EBFA;\n",
              "      box-shadow: 0px 1px 2px rgba(60, 64, 67, 0.3), 0px 1px 3px 1px rgba(60, 64, 67, 0.15);\n",
              "      fill: #174EA6;\n",
              "    }\n",
              "\n",
              "    [theme=dark] .colab-df-convert {\n",
              "      background-color: #3B4455;\n",
              "      fill: #D2E3FC;\n",
              "    }\n",
              "\n",
              "    [theme=dark] .colab-df-convert:hover {\n",
              "      background-color: #434B5C;\n",
              "      box-shadow: 0px 1px 3px 1px rgba(0, 0, 0, 0.15);\n",
              "      filter: drop-shadow(0px 1px 2px rgba(0, 0, 0, 0.3));\n",
              "      fill: #FFFFFF;\n",
              "    }\n",
              "  </style>\n",
              "\n",
              "      <script>\n",
              "        const buttonEl =\n",
              "          document.querySelector('#df-8c8e7fe9-8765-4eea-a0fa-4434ee7baf95 button.colab-df-convert');\n",
              "        buttonEl.style.display =\n",
              "          google.colab.kernel.accessAllowed ? 'block' : 'none';\n",
              "\n",
              "        async function convertToInteractive(key) {\n",
              "          const element = document.querySelector('#df-8c8e7fe9-8765-4eea-a0fa-4434ee7baf95');\n",
              "          const dataTable =\n",
              "            await google.colab.kernel.invokeFunction('convertToInteractive',\n",
              "                                                     [key], {});\n",
              "          if (!dataTable) return;\n",
              "\n",
              "          const docLinkHtml = 'Like what you see? Visit the ' +\n",
              "            '<a target=\"_blank\" href=https://colab.research.google.com/notebooks/data_table.ipynb>data table notebook</a>'\n",
              "            + ' to learn more about interactive tables.';\n",
              "          element.innerHTML = '';\n",
              "          dataTable['output_type'] = 'display_data';\n",
              "          await google.colab.output.renderOutput(dataTable, element);\n",
              "          const docLink = document.createElement('div');\n",
              "          docLink.innerHTML = docLinkHtml;\n",
              "          element.appendChild(docLink);\n",
              "        }\n",
              "      </script>\n",
              "    </div>\n",
              "  </div>\n"
            ]
          },
          "metadata": {},
          "execution_count": 554
        }
      ]
    },
    {
      "cell_type": "markdown",
      "source": [
        "##Sales performance analysis per year\n"
      ],
      "metadata": {
        "id": "8GXqY_je5b-P"
      }
    },
    {
      "cell_type": "code",
      "source": [
        "# sales analysis per year\n",
        "year_filter_sales = df.groupby('Year')\n",
        "year_filter_filter_sales = year_filter_sales.sum()['Sales']\n",
        "year_filter_filter_sales\n"
      ],
      "metadata": {
        "id": "Mvy8Npuc5iBe",
        "colab": {
          "base_uri": "https://localhost:8080/"
        },
        "outputId": "431362c7-9fb1-4302-87d4-cc4094e36495"
      },
      "execution_count": 555,
      "outputs": [
        {
          "output_type": "stream",
          "name": "stderr",
          "text": [
            "<ipython-input-555-50acdb05bc43>:3: FutureWarning: The default value of numeric_only in DataFrameGroupBy.sum is deprecated. In a future version, numeric_only will default to False. Either specify numeric_only or select only columns which should be valid for the function.\n",
            "  year_filter_filter_sales = year_filter_sales.sum()['Sales']\n"
          ]
        },
        {
          "output_type": "execute_result",
          "data": {
            "text/plain": [
              "Year\n",
              "2015    2975599\n",
              "2016    3131959\n",
              "2017    3871912\n",
              "2018    4977512\n",
              "Name: Sales, dtype: int64"
            ]
          },
          "metadata": {},
          "execution_count": 555
        }
      ]
    },
    {
      "cell_type": "code",
      "source": [
        "# sales analysis per year plot\n",
        "\n",
        "year_filter_sales_analysis = [product for product, df in year_filter_sales]\n",
        "\n",
        "# bar plot\n",
        "plt.figure(figsize=(16,5))\n",
        "plt.bar(year_filter_sales_analysis, year_filter_filter_sales)\n",
        "plt.ylabel('Total Sales')\n",
        "plt.xlabel('Year')\n",
        "plt.xticks(year_filter_sales_analysis, rotation='vertical', size=8)\n",
        "# bar width\n",
        "plt.show()"
      ],
      "metadata": {
        "colab": {
          "base_uri": "https://localhost:8080/",
          "height": 494
        },
        "id": "-NTGPd4AvHd6",
        "outputId": "cf4d3367-a52c-48a1-defd-3bfa6d333af1"
      },
      "execution_count": 573,
      "outputs": [
        {
          "output_type": "display_data",
          "data": {
            "text/plain": [
              "<Figure size 1600x500 with 1 Axes>"
            ],
            "image/png": "[encoded data removed]"
          },
          "metadata": {}
        }
      ]
    },
    {
      "cell_type": "markdown",
      "source": [
        "##Profits analysis  per year"
      ],
      "metadata": {
        "id": "0QNE-HEm5f5u"
      }
    },
    {
      "cell_type": "code",
      "source": [
        "# profit analysis per year\n",
        "year_filter_profits = df.groupby('Year')\n",
        "year_filter_filter_profits = year_filter_profits.sum()['Profit']\n",
        "year_filter_filter_profits\n"
      ],
      "metadata": {
        "id": "zKIyIwbA5leU",
        "colab": {
          "base_uri": "https://localhost:8080/"
        },
        "outputId": "c19e31de-d61d-41f6-83df-faa7bc9095be"
      },
      "execution_count": 557,
      "outputs": [
        {
          "output_type": "stream",
          "name": "stderr",
          "text": [
            "<ipython-input-557-f29af06f424d>:3: FutureWarning: The default value of numeric_only in DataFrameGroupBy.sum is deprecated. In a future version, numeric_only will default to False. Either specify numeric_only or select only columns which should be valid for the function.\n",
            "  year_filter_filter_profits = year_filter_profits.sum()['Profit']\n"
          ]
        },
        {
          "output_type": "execute_result",
          "data": {
            "text/plain": [
              "Year\n",
              "2015     752529.11\n",
              "2016     797192.99\n",
              "2017     953216.22\n",
              "2018    1244182.88\n",
              "Name: Profit, dtype: float64"
            ]
          },
          "metadata": {},
          "execution_count": 557
        }
      ]
    },
    {
      "cell_type": "code",
      "source": [
        "# profit analysis per year plot\n",
        "\n",
        "year_filter_profit_analysis = [product for product, df in year_filter_profits]\n",
        "\n",
        "# bar plot.\n",
        "plt.figure(figsize=(16,5))\n",
        "plt.bar(year_filter_profit_analysis, year_filter_filter_profits)\n",
        "plt.ylabel('Total Profits')\n",
        "plt.xlabel('Year')\n",
        "plt.xticks(year_filter_profit_analysis, rotation='vertical', size=8)\n",
        "# bar width\n",
        "plt.show()"
      ],
      "metadata": {
        "colab": {
          "base_uri": "https://localhost:8080/",
          "height": 494
        },
        "id": "CTs75t4W7O_2",
        "outputId": "c44ff82d-7856-4108-ba93-5b6764e7e4bd"
      },
      "execution_count": 572,
      "outputs": [
        {
          "output_type": "display_data",
          "data": {
            "text/plain": [
              "<Figure size 1600x500 with 1 Axes>"
            ],
            "image/png": "[encoded data removed]"
          },
          "metadata": {}
        }
      ]
    },
    {
      "cell_type": "markdown",
      "source": [
        "##Total  number of sales per Month (of year)\n"
      ],
      "metadata": {
        "id": "jVS5IH_4JQ4Z"
      }
    },
    {
      "cell_type": "code",
      "source": [
        "\n",
        "\n",
        "# ## analysis per month of year\n",
        "month_year_filter_sales = df.groupby('Month_Year')\n",
        "month_year_sales_filter = month_year_filter_sales.sum()['Sales']\n",
        "month_year_sales_filter"
      ],
      "metadata": {
        "colab": {
          "base_uri": "https://localhost:8080/"
        },
        "id": "muDF8GueJZfd",
        "outputId": "e8aa3f3c-05a0-4fe2-c412-e7564bf2f4cb"
      },
      "execution_count": 559,
      "outputs": [
        {
          "output_type": "stream",
          "name": "stderr",
          "text": [
            "<ipython-input-559-9b53fe44f565>:3: FutureWarning: The default value of numeric_only in DataFrameGroupBy.sum is deprecated. In a future version, numeric_only will default to False. Either specify numeric_only or select only columns which should be valid for the function.\n",
            "  month_year_sales_filter = month_year_filter_sales.sum()['Sales']\n"
          ]
        },
        {
          "output_type": "execute_result",
          "data": {
            "text/plain": [
              "Month_Year\n",
              "April-2015        203258\n",
              "April-2016        237272\n",
              "April-2017        247773\n",
              "April-2018        310150\n",
              "August-2015       230161\n",
              "August-2016       229543\n",
              "August-2017       256089\n",
              "August-2018       331014\n",
              "December-2015     410279\n",
              "December-2016     472245\n",
              "December-2017     518307\n",
              "December-2018     687245\n",
              "February-2015      66030\n",
              "February-2016      90823\n",
              "February-2017     132982\n",
              "February-2018     166267\n",
              "January-2015      122497\n",
              "January-2016       89009\n",
              "January-2017      131727\n",
              "January-2018      234739\n",
              "July-2015         220986\n",
              "July-2016         215776\n",
              "July-2017         315531\n",
              "July-2018         337092\n",
              "June-2015         206064\n",
              "June-2016         205388\n",
              "June-2017         291454\n",
              "June-2018         354902\n",
              "March-2015        247156\n",
              "March-2016        212164\n",
              "March-2017        238956\n",
              "March-2018        355704\n",
              "May-2015          164263\n",
              "May-2016          222722\n",
              "May-2017          332524\n",
              "May-2018          367411\n",
              "November-2015     480979\n",
              "November-2016     477720\n",
              "November-2017     551815\n",
              "November-2018     683410\n",
              "October-2015      241726\n",
              "October-2016      249639\n",
              "October-2017      308026\n",
              "October-2018      443898\n",
              "September-2015    382200\n",
              "September-2016    429658\n",
              "September-2017    546728\n",
              "September-2018    705680\n",
              "Name: Sales, dtype: int64"
            ]
          },
          "metadata": {},
          "execution_count": 559
        }
      ]
    },
    {
      "cell_type": "code",
      "source": [
        "# profit analysis per year plot\n",
        "\n",
        "month_year_filter_sales_analysis = [product for product, df in month_year_filter_sales]\n",
        "\n",
        "# bar plot\n",
        "# size: width,height\n",
        "plt.figure(figsize=(17,5))\n",
        "plt.bar(month_year_filter_sales_analysis, month_year_sales_filter)\n",
        "# plt.figure(figsize=(10, 6))\n",
        "plt.ylabel('Total Sales')\n",
        "plt.xlabel('Month in a year')\n",
        "plt.xticks(month_year_filter_sales_analysis, rotation='vertical', size=8 )\n",
        "# bar width\n",
        "plt.show()"
      ],
      "metadata": {
        "colab": {
          "base_uri": "https://localhost:8080/",
          "height": 544
        },
        "id": "FcHcdS0u8id5",
        "outputId": "d96ff3e0-0ba5-4bd4-86d3-8f82af8374d5"
      },
      "execution_count": 585,
      "outputs": [
        {
          "output_type": "display_data",
          "data": {
            "text/plain": [
              "<Figure size 1700x500 with 1 Axes>"
            ],
            "image/png": "[encoded data removed]"
          },
          "metadata": {}
        }
      ]
    },
    {
      "cell_type": "markdown",
      "source": [
        "##Total  number of profits per Month (of year)\n"
      ],
      "metadata": {
        "id": "0jLGFh95JVr9"
      }
    },
    {
      "cell_type": "code",
      "source": [
        "# ##Total  number of sales per Month (of year)\n"
      ],
      "metadata": {
        "id": "0JqEtgr7JaqM"
      },
      "execution_count": 561,
      "outputs": []
    },
    {
      "cell_type": "markdown",
      "source": [
        "##MOST SELLING PRODUCT BUSINESS PERFORMANCE ANALYSIS\n",
        "This is the product that will be used in doing predictions and model"
      ],
      "metadata": {
        "id": "Gwb9KyFxFyp2"
      }
    },
    {
      "cell_type": "markdown",
      "source": [
        "## Create a new dataset with the  highest selling product from the sales ,that shall be used to handle the predictions, do some analysis on the product , and also make the predictions using that product, that product should be the one used to do the model predictions"
      ],
      "metadata": {
        "id": "EdgzU6Esinn4"
      }
    },
    {
      "cell_type": "markdown",
      "source": [],
      "metadata": {
        "id": "R-vwp3HVnyjO"
      }
    }
  ]
}